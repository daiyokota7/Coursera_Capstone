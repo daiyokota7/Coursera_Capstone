{
 "cells": [
  {
   "cell_type": "markdown",
   "metadata": {},
   "source": [
    "<a href=\"https://cognitiveclass.ai\"><img src = \"https://ibm.box.com/shared/static/9gegpsmnsoo25ikkbl4qzlvlyjbgxs5x.png\" width = 400> </a>\n",
    "\n",
    "<h1 align=center><font size = 5>Recommended food venues in New York City</font></h1>"
   ]
  },
  {
   "cell_type": "markdown",
   "metadata": {},
   "source": [
    "# 1. Introduction\n",
    "<pre> My client who operates some food venues in New York often mailed to customers who ever visited there in order to drive sales. But his sales volume has not increased more than he expected. \n",
    "<br> Now he thinks that any strategy is needed to invite new customer. So, I propose finding prospective new customer on Forsqare users and advertise them by any means. </pre>"
   ]
  },
  {
   "cell_type": "markdown",
   "metadata": {},
   "source": [
    "# 2. Data (Collected rom Forsquare)\n",
    "<pre> Forsquare provides venue and users who liked or listed it, so that we can assume what kind of people is interested in what kind of venue in a certain extent.</pre>\n",
    "<pre> Unfortunately, venues which has been visited by users actually are not requested by other than themselves.</pre>"
   ]
  },
  {
   "cell_type": "markdown",
   "metadata": {},
   "source": [
    "<a id='item1'></a>"
   ]
  },
  {
   "cell_type": "markdown",
   "metadata": {},
   "source": [
    "## 2.1. Categories of food venues\n",
    "<pre> On Forsqure, there are many kind of restaurant categorised,American, Japanese,Chinese, etc</pre>"
   ]
  },
  {
   "cell_type": "markdown",
   "metadata": {},
   "source": [
    "### 2.1.1. Import libraries and set credencial parameters for requesting Forsquare"
   ]
  },
  {
   "cell_type": "code",
   "execution_count": 1,
   "metadata": {},
   "outputs": [],
   "source": [
    "import requests\n",
    "import numpy as np # library to handle data in a vectorized manner\n",
    "import pandas as pd # library for data analsysis\n",
    "import matplotlib.pyplot as plt\n"
   ]
  },
  {
   "cell_type": "code",
   "execution_count": 2,
   "metadata": {},
   "outputs": [
    {
     "name": "stdout",
     "output_type": "stream",
     "text": [
      "Your credentails:\n",
      "CLIENT_ID: 0M1FP2WZQWZVPMAO5JYWJH4TYG0EBXEVP5113LWGRD0TL1A1\n",
      "CLIENT_SECRET:CV0H1BAVHO21JIAJJTXOVB0CHJOBEWWYMZMWAMFDJCSF0ICP\n"
     ]
    }
   ],
   "source": [
    "CLIENT_ID = '0M1FP2WZQWZVPMAO5JYWJH4TYG0EBXEVP5113LWGRD0TL1A1' # your Foursquare ID\n",
    "CLIENT_SECRET = 'CV0H1BAVHO21JIAJJTXOVB0CHJOBEWWYMZMWAMFDJCSF0ICP' # your Foursquare Secret\n",
    "VERSION = '20190609' # Foursquare API version\n",
    "\n",
    "print('Your credentails:')\n",
    "print('CLIENT_ID: ' + CLIENT_ID)\n",
    "print('CLIENT_SECRET:' + CLIENT_SECRET)"
   ]
  },
  {
   "cell_type": "markdown",
   "metadata": {},
   "source": [
    "### 2.1.2. Set parameters for ex/importing filels from/to ICOS"
   ]
  },
  {
   "cell_type": "code",
   "execution_count": 3,
   "metadata": {},
   "outputs": [],
   "source": [
    "import ibm_boto3\n",
    "from ibm_botocore.client import Config\n",
    "\n",
    "credentials = {\n",
    "  \"apikey\": \"4s-6O2V713XZoS72Xa7SJazP0vlkAXNE1xz9pczDJYmV\",\n",
    "  \"endpoints\": \"https://control.cloud-object-storage.cloud.ibm.com/v2/endpoints\",\n",
    "  \"iam_apikey_description\": \"Auto-generated for key 7eadd029-6ef5-425e-8d9a-c6f07465017e\",\n",
    "  \"iam_apikey_name\": \"WDP-Editor-recommendedrestaurantfromforsquar-donotdelete-pr-o6qybii56fwa2b\",\n",
    "  \"iam_role_crn\": \"crn:v1:bluemix:public:iam::::serviceRole:Writer\",\n",
    "  \"iam_serviceid_crn\": \"crn:v1:bluemix:public:iam-identity::a/08d04e5af133a45b15f31a667a960463::serviceid:ServiceId-25b03739-107a-4836-b7a6-b8aa87b91034\",\n",
    "  \"resource_instance_id\": \"crn:v1:bluemix:public:cloud-object-storage:global:a/08d04e5af133a45b15f31a667a960463:2ff03d40-7b1f-498e-b990-9cead042d709::\",\n",
    "  \"BUCKET\": \"recommendedrestaurantfromforsquar-donotdelete-pr-o6qybii56fwa2b\"  \n",
    "\n",
    "}\n",
    "auth_endpoint = 'https://iam.cloud.ibm.com/oidc/token'\n",
    "service_endpoint = 'https://s3.ap-geo.objectstorage.service.networklayer.com'\n",
    "cos = ibm_boto3.client(service_name='s3',\n",
    "                           ibm_api_key_id=credentials['apikey'],\n",
    "                           ibm_service_instance_id=credentials['resource_instance_id'],\n",
    "                           ibm_auth_endpoint=auth_endpoint,\n",
    "                           config=Config(signature_version='oauth'),\n",
    "                           endpoint_url=service_endpoint,)"
   ]
  },
  {
   "cell_type": "markdown",
   "metadata": {},
   "source": [
    "### 2.1.3. Request all venues categories"
   ]
  },
  {
   "cell_type": "code",
   "execution_count": 4,
   "metadata": {
    "collapsed": false,
    "jupyter": {
     "outputs_hidden": false
    }
   },
   "outputs": [],
   "source": [
    "url = 'https://api.foursquare.com/v2/venues/categories?client_id={}&client_secret={}&v={}'.format(CLIENT_ID, CLIENT_SECRET, VERSION)\n",
    "cat_results = requests.get(url).json()\n"
   ]
  },
  {
   "cell_type": "markdown",
   "metadata": {},
   "source": [
    "### 2.1.4. Extract restaurant categories"
   ]
  },
  {
   "cell_type": "code",
   "execution_count": 5,
   "metadata": {},
   "outputs": [
    {
     "data": {
      "text/html": [
       "<div>\n",
       "<style scoped>\n",
       "    .dataframe tbody tr th:only-of-type {\n",
       "        vertical-align: middle;\n",
       "    }\n",
       "\n",
       "    .dataframe tbody tr th {\n",
       "        vertical-align: top;\n",
       "    }\n",
       "\n",
       "    .dataframe thead th {\n",
       "        text-align: right;\n",
       "    }\n",
       "</style>\n",
       "<table border=\"1\" class=\"dataframe\">\n",
       "  <thead>\n",
       "    <tr style=\"text-align: right;\">\n",
       "      <th></th>\n",
       "      <th>category1_id</th>\n",
       "      <th>category1_name</th>\n",
       "      <th>category2_id</th>\n",
       "      <th>category2_name</th>\n",
       "      <th>category3_id</th>\n",
       "      <th>category3_name</th>\n",
       "    </tr>\n",
       "  </thead>\n",
       "  <tbody>\n",
       "    <tr>\n",
       "      <th>0</th>\n",
       "      <td>503288ae91d4c4b30a586d67</td>\n",
       "      <td>Afghan Restaurant</td>\n",
       "      <td>NaN</td>\n",
       "      <td>NaN</td>\n",
       "      <td>NaN</td>\n",
       "      <td>NaN</td>\n",
       "    </tr>\n",
       "    <tr>\n",
       "      <th>1</th>\n",
       "      <td>4bf58dd8d48988d1c8941735</td>\n",
       "      <td>African Restaurant</td>\n",
       "      <td>4bf58dd8d48988d10a941735</td>\n",
       "      <td>Ethiopian Restaurant</td>\n",
       "      <td>NaN</td>\n",
       "      <td>NaN</td>\n",
       "    </tr>\n",
       "    <tr>\n",
       "      <th>2</th>\n",
       "      <td>4bf58dd8d48988d14e941735</td>\n",
       "      <td>American Restaurant</td>\n",
       "      <td>4bf58dd8d48988d157941735</td>\n",
       "      <td>New American Restaurant</td>\n",
       "      <td>NaN</td>\n",
       "      <td>NaN</td>\n",
       "    </tr>\n",
       "    <tr>\n",
       "      <th>3</th>\n",
       "      <td>5f2c2b7db6d05514c7044837</td>\n",
       "      <td>Armenian Restaurant</td>\n",
       "      <td>NaN</td>\n",
       "      <td>NaN</td>\n",
       "      <td>NaN</td>\n",
       "      <td>NaN</td>\n",
       "    </tr>\n",
       "    <tr>\n",
       "      <th>4</th>\n",
       "      <td>4bf58dd8d48988d142941735</td>\n",
       "      <td>Asian Restaurant</td>\n",
       "      <td>56aa371be4b08b9a8d573568</td>\n",
       "      <td>Burmese Restaurant</td>\n",
       "      <td>NaN</td>\n",
       "      <td>NaN</td>\n",
       "    </tr>\n",
       "  </tbody>\n",
       "</table>\n",
       "</div>"
      ],
      "text/plain": [
       "               category1_id       category1_name              category2_id  \\\n",
       "0  503288ae91d4c4b30a586d67    Afghan Restaurant                       NaN   \n",
       "1  4bf58dd8d48988d1c8941735   African Restaurant  4bf58dd8d48988d10a941735   \n",
       "2  4bf58dd8d48988d14e941735  American Restaurant  4bf58dd8d48988d157941735   \n",
       "3  5f2c2b7db6d05514c7044837  Armenian Restaurant                       NaN   \n",
       "4  4bf58dd8d48988d142941735     Asian Restaurant  56aa371be4b08b9a8d573568   \n",
       "\n",
       "            category2_name category3_id category3_name  \n",
       "0                      NaN          NaN            NaN  \n",
       "1     Ethiopian Restaurant          NaN            NaN  \n",
       "2  New American Restaurant          NaN            NaN  \n",
       "3                      NaN          NaN            NaN  \n",
       "4       Burmese Restaurant          NaN            NaN  "
      ]
     },
     "execution_count": 5,
     "metadata": {},
     "output_type": "execute_result"
    }
   ],
   "source": [
    "categories=[]\n",
    "catname=[]\n",
    "df_cat=pd.DataFrame(index=[],columns=['category1_id','category1_name','category2_id','category2_name','category3_id','category3_name'])\n",
    "for cat in cat_results['response']['categories']:\n",
    "    if cat['name']=='Food':\n",
    "        for s1cat in cat['categories']:\n",
    "            if s1cat['categories']:\n",
    "                for s2cat in s1cat['categories']:\n",
    "                    if s2cat['categories']:\n",
    "                        for s3cat in s2cat['categories']:\n",
    "                            record = pd.Series([s1cat['id'],s1cat['name'],s2cat['id'],s2cat['name'],s3cat['id'],s3cat['name']], index=df_cat.columns)\n",
    "                            df_cat=df_cat.append(record,ignore_index=True)\n",
    "                    else:\n",
    "                        record = pd.Series([s1cat['id'],s1cat['name'],s2cat['id'],s2cat['name'],np.nan,np.nan], index=df_cat.columns)\n",
    "                        df_cat=df_cat.append(record,ignore_index=True)\n",
    "            else:\n",
    "                record = pd.Series([s1cat['id'],s1cat['name'],np.nan,np.nan,np.nan,np.nan],index=df_cat.columns)\n",
    "                df_cat=df_cat.append(record,ignore_index=True)\n",
    "df_cat.head()"
   ]
  },
  {
   "cell_type": "code",
   "execution_count": 38,
   "metadata": {},
   "outputs": [
    {
     "name": "stdout",
     "output_type": "stream",
     "text": [
      "(314, 6)\n"
     ]
    },
    {
     "data": {
      "text/html": [
       "<div>\n",
       "<style scoped>\n",
       "    .dataframe tbody tr th:only-of-type {\n",
       "        vertical-align: middle;\n",
       "    }\n",
       "\n",
       "    .dataframe tbody tr th {\n",
       "        vertical-align: top;\n",
       "    }\n",
       "\n",
       "    .dataframe thead th {\n",
       "        text-align: right;\n",
       "    }\n",
       "</style>\n",
       "<table border=\"1\" class=\"dataframe\">\n",
       "  <thead>\n",
       "    <tr style=\"text-align: right;\">\n",
       "      <th></th>\n",
       "      <th>category1_id</th>\n",
       "      <th>category1_name</th>\n",
       "      <th>category2_id</th>\n",
       "      <th>category2_name</th>\n",
       "      <th>category3_id</th>\n",
       "      <th>category3_name</th>\n",
       "    </tr>\n",
       "  </thead>\n",
       "  <tbody>\n",
       "    <tr>\n",
       "      <th>0</th>\n",
       "      <td>503288ae91d4c4b30a586d67</td>\n",
       "      <td>Afghan Restaurant</td>\n",
       "      <td>NaN</td>\n",
       "      <td>NaN</td>\n",
       "      <td>NaN</td>\n",
       "      <td>NaN</td>\n",
       "    </tr>\n",
       "    <tr>\n",
       "      <th>1</th>\n",
       "      <td>4bf58dd8d48988d1c8941735</td>\n",
       "      <td>African Restaurant</td>\n",
       "      <td>4bf58dd8d48988d10a941735</td>\n",
       "      <td>Ethiopian Restaurant</td>\n",
       "      <td>NaN</td>\n",
       "      <td>NaN</td>\n",
       "    </tr>\n",
       "    <tr>\n",
       "      <th>2</th>\n",
       "      <td>4bf58dd8d48988d14e941735</td>\n",
       "      <td>American Restaurant</td>\n",
       "      <td>4bf58dd8d48988d157941735</td>\n",
       "      <td>New American Restaurant</td>\n",
       "      <td>NaN</td>\n",
       "      <td>NaN</td>\n",
       "    </tr>\n",
       "    <tr>\n",
       "      <th>3</th>\n",
       "      <td>5f2c2b7db6d05514c7044837</td>\n",
       "      <td>Armenian Restaurant</td>\n",
       "      <td>NaN</td>\n",
       "      <td>NaN</td>\n",
       "      <td>NaN</td>\n",
       "      <td>NaN</td>\n",
       "    </tr>\n",
       "    <tr>\n",
       "      <th>4</th>\n",
       "      <td>4bf58dd8d48988d142941735</td>\n",
       "      <td>Asian Restaurant</td>\n",
       "      <td>56aa371be4b08b9a8d573568</td>\n",
       "      <td>Burmese Restaurant</td>\n",
       "      <td>NaN</td>\n",
       "      <td>NaN</td>\n",
       "    </tr>\n",
       "  </tbody>\n",
       "</table>\n",
       "</div>"
      ],
      "text/plain": [
       "               category1_id       category1_name              category2_id  \\\n",
       "0  503288ae91d4c4b30a586d67    Afghan Restaurant                       NaN   \n",
       "1  4bf58dd8d48988d1c8941735   African Restaurant  4bf58dd8d48988d10a941735   \n",
       "2  4bf58dd8d48988d14e941735  American Restaurant  4bf58dd8d48988d157941735   \n",
       "3  5f2c2b7db6d05514c7044837  Armenian Restaurant                       NaN   \n",
       "4  4bf58dd8d48988d142941735     Asian Restaurant  56aa371be4b08b9a8d573568   \n",
       "\n",
       "            category2_name category3_id category3_name  \n",
       "0                      NaN          NaN            NaN  \n",
       "1     Ethiopian Restaurant          NaN            NaN  \n",
       "2  New American Restaurant          NaN            NaN  \n",
       "3                      NaN          NaN            NaN  \n",
       "4       Burmese Restaurant          NaN            NaN  "
      ]
     },
     "execution_count": 38,
     "metadata": {},
     "output_type": "execute_result"
    }
   ],
   "source": [
    "print(df_cat.shape)\n",
    "df_cat.head()"
   ]
  },
  {
   "cell_type": "code",
   "execution_count": 6,
   "metadata": {},
   "outputs": [],
   "source": [
    "df_cat.to_csv('./category.csv')"
   ]
  },
  {
   "cell_type": "markdown",
   "metadata": {},
   "source": [
    "## 2.2. Food venues in New York\n",
    "<pre>Request <font color=\"#c71585\">venues</font>, fillterd by restaurant categories,by New York , then create datas frame.</pr>"
   ]
  },
  {
   "cell_type": "markdown",
   "metadata": {},
   "source": [
    "### 2.2.1. Request NY food venues per categories"
   ]
  },
  {
   "cell_type": "code",
   "execution_count": 321,
   "metadata": {},
   "outputs": [
    {
     "name": "stdout",
     "output_type": "stream",
     "text": [
      "(19732, 4)\n"
     ]
    },
    {
     "data": {
      "text/html": [
       "<div>\n",
       "<style scoped>\n",
       "    .dataframe tbody tr th:only-of-type {\n",
       "        vertical-align: middle;\n",
       "    }\n",
       "\n",
       "    .dataframe tbody tr th {\n",
       "        vertical-align: top;\n",
       "    }\n",
       "\n",
       "    .dataframe thead th {\n",
       "        text-align: right;\n",
       "    }\n",
       "</style>\n",
       "<table border=\"1\" class=\"dataframe\">\n",
       "  <thead>\n",
       "    <tr style=\"text-align: right;\">\n",
       "      <th></th>\n",
       "      <th>venue_id</th>\n",
       "      <th>venue_name</th>\n",
       "      <th>category_id</th>\n",
       "      <th>category_name</th>\n",
       "    </tr>\n",
       "  </thead>\n",
       "  <tbody>\n",
       "    <tr>\n",
       "      <th>0</th>\n",
       "      <td>5216d2ea11d2f50a834d55d8</td>\n",
       "      <td>Walid Halal Food</td>\n",
       "      <td>503288ae91d4c4b30a586d67</td>\n",
       "      <td>Afghan Restaurant</td>\n",
       "    </tr>\n",
       "    <tr>\n",
       "      <th>1</th>\n",
       "      <td>543c67f4498ef974a5701b84</td>\n",
       "      <td>afghan kebab house</td>\n",
       "      <td>503288ae91d4c4b30a586d67</td>\n",
       "      <td>Afghan Restaurant</td>\n",
       "    </tr>\n",
       "    <tr>\n",
       "      <th>2</th>\n",
       "      <td>582a1b095f78034bcfb69186</td>\n",
       "      <td>Sami's Kebab House</td>\n",
       "      <td>503288ae91d4c4b30a586d67</td>\n",
       "      <td>Afghan Restaurant</td>\n",
       "    </tr>\n",
       "    <tr>\n",
       "      <th>3</th>\n",
       "      <td>5af9c0fa9e0d5400398a745f</td>\n",
       "      <td>Bakhtar Afghan Wali Baba Grill</td>\n",
       "      <td>503288ae91d4c4b30a586d67</td>\n",
       "      <td>Afghan Restaurant</td>\n",
       "    </tr>\n",
       "    <tr>\n",
       "      <th>4</th>\n",
       "      <td>57b8f763cd10f71921e464b5</td>\n",
       "      <td>Kabul Kebab</td>\n",
       "      <td>503288ae91d4c4b30a586d67</td>\n",
       "      <td>Afghan Restaurant</td>\n",
       "    </tr>\n",
       "  </tbody>\n",
       "</table>\n",
       "</div>"
      ],
      "text/plain": [
       "                   venue_id                      venue_name  \\\n",
       "0  5216d2ea11d2f50a834d55d8                Walid Halal Food   \n",
       "1  543c67f4498ef974a5701b84              afghan kebab house   \n",
       "2  582a1b095f78034bcfb69186              Sami's Kebab House   \n",
       "3  5af9c0fa9e0d5400398a745f  Bakhtar Afghan Wali Baba Grill   \n",
       "4  57b8f763cd10f71921e464b5                     Kabul Kebab   \n",
       "\n",
       "                category_id      category_name  \n",
       "0  503288ae91d4c4b30a586d67  Afghan Restaurant  \n",
       "1  503288ae91d4c4b30a586d67  Afghan Restaurant  \n",
       "2  503288ae91d4c4b30a586d67  Afghan Restaurant  \n",
       "3  503288ae91d4c4b30a586d67  Afghan Restaurant  \n",
       "4  503288ae91d4c4b30a586d67  Afghan Restaurant  "
      ]
     },
     "execution_count": 321,
     "metadata": {},
     "output_type": "execute_result"
    }
   ],
   "source": [
    "NEAR='NY'\n",
    "LIMIT=50\n",
    "df_venues=pd.DataFrame(index=[],columns=['venue_id','venue_name','category_id','category_name'])\n",
    "#for CAT in df_cat['cat']: \n",
    "for CAT in pd.concat([df_cat[df_cat['category1_id'].notna()].category1_id,df_cat[df_cat['category2_id'].notna()].category2_id,df_cat[df_cat['category3_id'].notna()].category3_id]): \n",
    "    url2='https://api.foursquare.com/v2/venues/search?client_id={}&client_secret={}&v={}&categoryId={}&near={}&limit={}'.format(CLIENT_ID, CLIENT_SECRET, VERSION,CAT,NEAR,LIMIT)\n",
    "    for ret in requests.get(url2).json()['response']['venues']:\n",
    "        for cat in ret['categories']:\n",
    "            record=pd.Series([ret['id'],ret['name'],cat['id'],cat['name']],index=df_venues.columns)\n",
    "            df_venues=df_venues.append(record,ignore_index=True)\n",
    "print(df_venues.shape)\n",
    "df_venues.head()"
   ]
  },
  {
   "cell_type": "code",
   "execution_count": 40,
   "metadata": {},
   "outputs": [
    {
     "name": "stdout",
     "output_type": "stream",
     "text": [
      "(4135, 4)\n"
     ]
    },
    {
     "data": {
      "text/html": [
       "<div>\n",
       "<style scoped>\n",
       "    .dataframe tbody tr th:only-of-type {\n",
       "        vertical-align: middle;\n",
       "    }\n",
       "\n",
       "    .dataframe tbody tr th {\n",
       "        vertical-align: top;\n",
       "    }\n",
       "\n",
       "    .dataframe thead th {\n",
       "        text-align: right;\n",
       "    }\n",
       "</style>\n",
       "<table border=\"1\" class=\"dataframe\">\n",
       "  <thead>\n",
       "    <tr style=\"text-align: right;\">\n",
       "      <th></th>\n",
       "      <th>venue_id</th>\n",
       "      <th>venue_name</th>\n",
       "      <th>category_id</th>\n",
       "      <th>category_name</th>\n",
       "    </tr>\n",
       "  </thead>\n",
       "  <tbody>\n",
       "    <tr>\n",
       "      <th>0</th>\n",
       "      <td>5216d2ea11d2f50a834d55d8</td>\n",
       "      <td>Walid Halal Food</td>\n",
       "      <td>503288ae91d4c4b30a586d67</td>\n",
       "      <td>Afghan Restaurant</td>\n",
       "    </tr>\n",
       "    <tr>\n",
       "      <th>1</th>\n",
       "      <td>543c67f4498ef974a5701b84</td>\n",
       "      <td>afghan kebab house</td>\n",
       "      <td>503288ae91d4c4b30a586d67</td>\n",
       "      <td>Afghan Restaurant</td>\n",
       "    </tr>\n",
       "    <tr>\n",
       "      <th>2</th>\n",
       "      <td>582a1b095f78034bcfb69186</td>\n",
       "      <td>Sami's Kebab House</td>\n",
       "      <td>503288ae91d4c4b30a586d67</td>\n",
       "      <td>Afghan Restaurant</td>\n",
       "    </tr>\n",
       "    <tr>\n",
       "      <th>3</th>\n",
       "      <td>5af9c0fa9e0d5400398a745f</td>\n",
       "      <td>Bakhtar Afghan Wali Baba Grill</td>\n",
       "      <td>503288ae91d4c4b30a586d67</td>\n",
       "      <td>Afghan Restaurant</td>\n",
       "    </tr>\n",
       "    <tr>\n",
       "      <th>4</th>\n",
       "      <td>57b8f763cd10f71921e464b5</td>\n",
       "      <td>Kabul Kebab</td>\n",
       "      <td>503288ae91d4c4b30a586d67</td>\n",
       "      <td>Afghan Restaurant</td>\n",
       "    </tr>\n",
       "  </tbody>\n",
       "</table>\n",
       "</div>"
      ],
      "text/plain": [
       "                   venue_id                      venue_name  \\\n",
       "0  5216d2ea11d2f50a834d55d8                Walid Halal Food   \n",
       "1  543c67f4498ef974a5701b84              afghan kebab house   \n",
       "2  582a1b095f78034bcfb69186              Sami's Kebab House   \n",
       "3  5af9c0fa9e0d5400398a745f  Bakhtar Afghan Wali Baba Grill   \n",
       "4  57b8f763cd10f71921e464b5                     Kabul Kebab   \n",
       "\n",
       "                category_id      category_name  \n",
       "0  503288ae91d4c4b30a586d67  Afghan Restaurant  \n",
       "1  503288ae91d4c4b30a586d67  Afghan Restaurant  \n",
       "2  503288ae91d4c4b30a586d67  Afghan Restaurant  \n",
       "3  503288ae91d4c4b30a586d67  Afghan Restaurant  \n",
       "4  503288ae91d4c4b30a586d67  Afghan Restaurant  "
      ]
     },
     "execution_count": 40,
     "metadata": {},
     "output_type": "execute_result"
    }
   ],
   "source": [
    "df_venues=df_venues.drop_duplicates(subset='venue_id',keep='last')\n",
    "df_venues=df_venues.drop_duplicates(subset='venue_name',keep='last')\n",
    "print(df_venues.shape)\n",
    "df_venues.head()"
   ]
  },
  {
   "cell_type": "code",
   "execution_count": null,
   "metadata": {},
   "outputs": [],
   "source": [
    "df_venues.to_csv('./NY_restaurant.csv',index=False)\n",
    "for filename in ['./NY_restaurant.csv']:\n",
    "    cos.upload_file(Filename=filename, Bucket=credentials['BUCKET'], Key=filename )"
   ]
  },
  {
   "cell_type": "markdown",
   "metadata": {},
   "source": [
    "### 2.2.2. Merge venues with category1,2,3"
   ]
  },
  {
   "cell_type": "code",
   "execution_count": 183,
   "metadata": {},
   "outputs": [],
   "source": [
    "df_tmp3=df_venues[df_venues['category_id'].isin(df_cat['category3_id'])].rename(columns={'category_id':'category3_id','category_name':'category3_name'})\n",
    "df_tmp3=pd.merge(df_tmp3,df_cat,on='category3_id',how='inner')[['venue_id','venue_name','category1_id','category1_name','category2_id','category2_name','category3_id','category3_name_x']].rename(columns={'category3_name_x':'category3_name'})\n"
   ]
  },
  {
   "cell_type": "code",
   "execution_count": 184,
   "metadata": {},
   "outputs": [],
   "source": [
    "df_tmp2=df_venues[df_venues['category_id'].isin(df_cat['category2_id'])].rename(columns={'category_id':'category2_id','category_name':'category2_name'})\n",
    "df_tmp2=pd.merge(df_tmp2,df_cat[df_cat.category2_id.notna()].drop_duplicates('category2_id'),on='category2_id',how='inner')[['venue_id','venue_name','category1_id','category1_name','category2_id','category2_name_x','category3_id','category3_name']].rename(columns={'category2_name_x':'category2_name'})\n"
   ]
  },
  {
   "cell_type": "code",
   "execution_count": null,
   "metadata": {},
   "outputs": [],
   "source": [
    "df_tmp1=df_venues[df_venues['category_id'].isin(df_cat['category1_id'])].rename(columns={'category_id':'category1_id','category_name':'category1_name'})\n",
    "df_tmp=pd.merge(df_tmp1,df_cat[df_cat.category1_id.notna()].drop_duplicates('category1_id'),on='category1_id',how='inner')[['venue_id','venue_name','category1_id','category1_name_x','category2_id','category2_name']].rename(columns={'category1_name_x':'category1_name'})\n",
    "df_tmp1=pd.concat([df_tmp,pd.DataFrame([['0','0']]*len(df_tmp))], axis=1).rename(columns={0:'category3_id',1:'category3_name'})\n",
    "df_tmp1"
   ]
  },
  {
   "cell_type": "code",
   "execution_count": 186,
   "metadata": {},
   "outputs": [],
   "source": [
    "df_venues_cat=pd.concat([df_tmp1,df_tmp2,df_tmp3])"
   ]
  },
  {
   "cell_type": "code",
   "execution_count": 187,
   "metadata": {},
   "outputs": [],
   "source": [
    "df_venues_cat.to_csv('./NY_restaurant_cat.csv',index=False)\n",
    "for filename in ['./NY_restaurant_cat.csv']:\n",
    "    cos.upload_file(Filename=filename, Bucket=credentials['BUCKET'], Key=filename )"
   ]
  },
  {
   "cell_type": "markdown",
   "metadata": {},
   "source": [
    "### <span style=\"color:#CC3366\">Import from csv files, for convenience.</span>"
   ]
  },
  {
   "cell_type": "code",
   "execution_count": 6,
   "metadata": {},
   "outputs": [],
   "source": [
    "for filename in ['./NY_restaurant_cat.csv','./NY_restaurant.csv','./category.csv']:\n",
    "    cos.download_file(Bucket=credentials['BUCKET'],Key=filename,Filename=filename)\n",
    "df_venues=pd.read_csv('./NY_restaurant.csv')\n",
    "df_venues_cat=pd.read_csv('./NY_restaurant_cat.csv')"
   ]
  },
  {
   "cell_type": "code",
   "execution_count": 7,
   "metadata": {},
   "outputs": [
    {
     "name": "stdout",
     "output_type": "stream",
     "text": [
      "(4135, 4)\n"
     ]
    },
    {
     "data": {
      "text/html": [
       "<div>\n",
       "<style scoped>\n",
       "    .dataframe tbody tr th:only-of-type {\n",
       "        vertical-align: middle;\n",
       "    }\n",
       "\n",
       "    .dataframe tbody tr th {\n",
       "        vertical-align: top;\n",
       "    }\n",
       "\n",
       "    .dataframe thead th {\n",
       "        text-align: right;\n",
       "    }\n",
       "</style>\n",
       "<table border=\"1\" class=\"dataframe\">\n",
       "  <thead>\n",
       "    <tr style=\"text-align: right;\">\n",
       "      <th></th>\n",
       "      <th>venue_id</th>\n",
       "      <th>venue_name</th>\n",
       "      <th>category1_id</th>\n",
       "      <th>category1_name</th>\n",
       "      <th>category2_id</th>\n",
       "      <th>category2_name</th>\n",
       "      <th>category3_id</th>\n",
       "      <th>category3_name</th>\n",
       "    </tr>\n",
       "  </thead>\n",
       "  <tbody>\n",
       "    <tr>\n",
       "      <th>0</th>\n",
       "      <td>5216d2ea11d2f50a834d55d8</td>\n",
       "      <td>Walid Halal Food</td>\n",
       "      <td>503288ae91d4c4b30a586d67</td>\n",
       "      <td>Afghan Restaurant</td>\n",
       "      <td>NaN</td>\n",
       "      <td>NaN</td>\n",
       "      <td>0</td>\n",
       "      <td>0</td>\n",
       "    </tr>\n",
       "    <tr>\n",
       "      <th>1</th>\n",
       "      <td>543c67f4498ef974a5701b84</td>\n",
       "      <td>afghan kebab house</td>\n",
       "      <td>503288ae91d4c4b30a586d67</td>\n",
       "      <td>Afghan Restaurant</td>\n",
       "      <td>NaN</td>\n",
       "      <td>NaN</td>\n",
       "      <td>0</td>\n",
       "      <td>0</td>\n",
       "    </tr>\n",
       "    <tr>\n",
       "      <th>2</th>\n",
       "      <td>582a1b095f78034bcfb69186</td>\n",
       "      <td>Sami's Kebab House</td>\n",
       "      <td>503288ae91d4c4b30a586d67</td>\n",
       "      <td>Afghan Restaurant</td>\n",
       "      <td>NaN</td>\n",
       "      <td>NaN</td>\n",
       "      <td>0</td>\n",
       "      <td>0</td>\n",
       "    </tr>\n",
       "    <tr>\n",
       "      <th>3</th>\n",
       "      <td>5af9c0fa9e0d5400398a745f</td>\n",
       "      <td>Bakhtar Afghan Wali Baba Grill</td>\n",
       "      <td>503288ae91d4c4b30a586d67</td>\n",
       "      <td>Afghan Restaurant</td>\n",
       "      <td>NaN</td>\n",
       "      <td>NaN</td>\n",
       "      <td>0</td>\n",
       "      <td>0</td>\n",
       "    </tr>\n",
       "    <tr>\n",
       "      <th>4</th>\n",
       "      <td>57b8f763cd10f71921e464b5</td>\n",
       "      <td>Kabul Kebab</td>\n",
       "      <td>503288ae91d4c4b30a586d67</td>\n",
       "      <td>Afghan Restaurant</td>\n",
       "      <td>NaN</td>\n",
       "      <td>NaN</td>\n",
       "      <td>0</td>\n",
       "      <td>0</td>\n",
       "    </tr>\n",
       "  </tbody>\n",
       "</table>\n",
       "</div>"
      ],
      "text/plain": [
       "                   venue_id                      venue_name  \\\n",
       "0  5216d2ea11d2f50a834d55d8                Walid Halal Food   \n",
       "1  543c67f4498ef974a5701b84              afghan kebab house   \n",
       "2  582a1b095f78034bcfb69186              Sami's Kebab House   \n",
       "3  5af9c0fa9e0d5400398a745f  Bakhtar Afghan Wali Baba Grill   \n",
       "4  57b8f763cd10f71921e464b5                     Kabul Kebab   \n",
       "\n",
       "               category1_id     category1_name category2_id category2_name  \\\n",
       "0  503288ae91d4c4b30a586d67  Afghan Restaurant          NaN            NaN   \n",
       "1  503288ae91d4c4b30a586d67  Afghan Restaurant          NaN            NaN   \n",
       "2  503288ae91d4c4b30a586d67  Afghan Restaurant          NaN            NaN   \n",
       "3  503288ae91d4c4b30a586d67  Afghan Restaurant          NaN            NaN   \n",
       "4  503288ae91d4c4b30a586d67  Afghan Restaurant          NaN            NaN   \n",
       "\n",
       "  category3_id category3_name  \n",
       "0            0              0  \n",
       "1            0              0  \n",
       "2            0              0  \n",
       "3            0              0  \n",
       "4            0              0  "
      ]
     },
     "execution_count": 7,
     "metadata": {},
     "output_type": "execute_result"
    }
   ],
   "source": [
    "print(df_venues.shape)\n",
    "df_venues_cat.head()"
   ]
  },
  {
   "cell_type": "markdown",
   "metadata": {},
   "source": [
    "## 2.3. Users and venues on Tips and Lists\n",
    "<pre>Request <font color=\"#c71585\">venue detail</font> for all food venues in New York extracted previous step and extract tips and lists, which will be used to collect users.</pre>"
   ]
  },
  {
   "cell_type": "markdown",
   "metadata": {},
   "source": [
    "### 2.3.1. Request Venue detail\n"
   ]
  },
  {
   "cell_type": "code",
   "execution_count": 9,
   "metadata": {},
   "outputs": [],
   "source": [
    "df_tips=pd.DataFrame(index=[],columns=['venue_id','user_id','tip_id','tip_text'])\n",
    "df_lists=pd.DataFrame(index=[],columns=['venue_id','user_id','list_id'])\n",
    "for venue_id in df_venues['venue_id']:\n",
    "    url3='https://api.foursquare.com/v2/venues/{}?client_id={}&client_secret={}&v={}'.format(venue_id,CLIENT_ID,CLIENT_SECRET,VERSION)\n",
    "    ret=requests.get(url3).json()['response']['venue']\n",
    "    for groups in ret['tips']['groups']:\n",
    "        for tip in groups['items']:\n",
    "            record=pd.Series([venue_id,tip['user']['id'],tip['id'],tip['text']],index=df_tips.columns)\n",
    "            df_tips=df_tips.append(record,ignore_index=True)\n",
    "    for groups in ret['listed']['groups']:\n",
    "        for listed in groups['items']:\n",
    "            record=pd.Series([venue_id,listed['user']['id'],listed['id']],index=df_lists.columns)\n",
    "            df_lists=df_lists.append(record,ignore_index=True)\n",
    "df_tips.to_csv('./NY_restaurant_tips.csv',index=False)\n",
    "df_lists.to_csv('./NY_restaurant_lists.csv',index=False)\n",
    "for filename in ['./NY_restaurant_tips.csv','./NY_restaurant_lists.csv']:\n",
    "    cos.upload_file(Filename=filename, Bucket=credentials['BUCKET'], Key=filename )"
   ]
  },
  {
   "cell_type": "markdown",
   "metadata": {},
   "source": [
    "### <span style=\"color:#CC3366\">2.3.2. Import venue,venue with category files,which was collected before, for convenience.</span>"
   ]
  },
  {
   "cell_type": "code",
   "execution_count": 8,
   "metadata": {},
   "outputs": [],
   "source": [
    "for filename in ['./NY_restaurant_lists.csv','./NY_restaurant_tips.csv']:\n",
    "    cos.download_file(Bucket=credentials['BUCKET'],Key=filename,Filename=filename)"
   ]
  },
  {
   "cell_type": "code",
   "execution_count": 45,
   "metadata": {},
   "outputs": [
    {
     "name": "stdout",
     "output_type": "stream",
     "text": [
      "(7006, 4)\n"
     ]
    },
    {
     "data": {
      "text/html": [
       "<div>\n",
       "<style scoped>\n",
       "    .dataframe tbody tr th:only-of-type {\n",
       "        vertical-align: middle;\n",
       "    }\n",
       "\n",
       "    .dataframe tbody tr th {\n",
       "        vertical-align: top;\n",
       "    }\n",
       "\n",
       "    .dataframe thead th {\n",
       "        text-align: right;\n",
       "    }\n",
       "</style>\n",
       "<table border=\"1\" class=\"dataframe\">\n",
       "  <thead>\n",
       "    <tr style=\"text-align: right;\">\n",
       "      <th></th>\n",
       "      <th>venue_id</th>\n",
       "      <th>user_id</th>\n",
       "    </tr>\n",
       "  </thead>\n",
       "  <tbody>\n",
       "    <tr>\n",
       "      <th>0</th>\n",
       "      <td>582a1b095f78034bcfb69186</td>\n",
       "      <td>1265687</td>\n",
       "    </tr>\n",
       "    <tr>\n",
       "      <th>1</th>\n",
       "      <td>582a1b095f78034bcfb69186</td>\n",
       "      <td>192962359</td>\n",
       "    </tr>\n",
       "    <tr>\n",
       "      <th>2</th>\n",
       "      <td>57b8f763cd10f71921e464b5</td>\n",
       "      <td>2868030</td>\n",
       "    </tr>\n",
       "    <tr>\n",
       "      <th>3</th>\n",
       "      <td>51ec708d498e58679aa83bca</td>\n",
       "      <td>59130915</td>\n",
       "    </tr>\n",
       "    <tr>\n",
       "      <th>4</th>\n",
       "      <td>541f4507498e3a898af35a90</td>\n",
       "      <td>35551887</td>\n",
       "    </tr>\n",
       "  </tbody>\n",
       "</table>\n",
       "</div>"
      ],
      "text/plain": [
       "                   venue_id    user_id\n",
       "0  582a1b095f78034bcfb69186    1265687\n",
       "1  582a1b095f78034bcfb69186  192962359\n",
       "2  57b8f763cd10f71921e464b5    2868030\n",
       "3  51ec708d498e58679aa83bca   59130915\n",
       "4  541f4507498e3a898af35a90   35551887"
      ]
     },
     "execution_count": 45,
     "metadata": {},
     "output_type": "execute_result"
    }
   ],
   "source": [
    "df_tips=pd.read_csv('./NY_restaurant_tips.csv')\n",
    "df_lists=pd.read_csv('./NY_restaurant_lists.csv')\n",
    "print(df_tips.shape)\n",
    "df_tips.loc[:,['venue_id','user_id']].head()\n"
   ]
  },
  {
   "cell_type": "code",
   "execution_count": 46,
   "metadata": {},
   "outputs": [
    {
     "name": "stdout",
     "output_type": "stream",
     "text": [
      "(12042, 3)\n"
     ]
    },
    {
     "data": {
      "text/html": [
       "<div>\n",
       "<style scoped>\n",
       "    .dataframe tbody tr th:only-of-type {\n",
       "        vertical-align: middle;\n",
       "    }\n",
       "\n",
       "    .dataframe tbody tr th {\n",
       "        vertical-align: top;\n",
       "    }\n",
       "\n",
       "    .dataframe thead th {\n",
       "        text-align: right;\n",
       "    }\n",
       "</style>\n",
       "<table border=\"1\" class=\"dataframe\">\n",
       "  <thead>\n",
       "    <tr style=\"text-align: right;\">\n",
       "      <th></th>\n",
       "      <th>venue_id</th>\n",
       "      <th>user_id</th>\n",
       "    </tr>\n",
       "  </thead>\n",
       "  <tbody>\n",
       "    <tr>\n",
       "      <th>0</th>\n",
       "      <td>582a1b095f78034bcfb69186</td>\n",
       "      <td>7548664</td>\n",
       "    </tr>\n",
       "    <tr>\n",
       "      <th>1</th>\n",
       "      <td>582a1b095f78034bcfb69186</td>\n",
       "      <td>12113441</td>\n",
       "    </tr>\n",
       "    <tr>\n",
       "      <th>2</th>\n",
       "      <td>582a1b095f78034bcfb69186</td>\n",
       "      <td>125417687</td>\n",
       "    </tr>\n",
       "    <tr>\n",
       "      <th>3</th>\n",
       "      <td>582a1b095f78034bcfb69186</td>\n",
       "      <td>23355</td>\n",
       "    </tr>\n",
       "    <tr>\n",
       "      <th>4</th>\n",
       "      <td>57b8f763cd10f71921e464b5</td>\n",
       "      <td>9427412</td>\n",
       "    </tr>\n",
       "  </tbody>\n",
       "</table>\n",
       "</div>"
      ],
      "text/plain": [
       "                   venue_id    user_id\n",
       "0  582a1b095f78034bcfb69186    7548664\n",
       "1  582a1b095f78034bcfb69186   12113441\n",
       "2  582a1b095f78034bcfb69186  125417687\n",
       "3  582a1b095f78034bcfb69186      23355\n",
       "4  57b8f763cd10f71921e464b5    9427412"
      ]
     },
     "execution_count": 46,
     "metadata": {},
     "output_type": "execute_result"
    }
   ],
   "source": [
    "print(df_lists.shape)\n",
    "df_lists.loc[:,['venue_id','user_id']].head()"
   ]
  },
  {
   "cell_type": "markdown",
   "metadata": {},
   "source": [
    "### 2.3.3. Extract users on Tips and Listed"
   ]
  },
  {
   "cell_type": "code",
   "execution_count": 48,
   "metadata": {},
   "outputs": [
    {
     "name": "stdout",
     "output_type": "stream",
     "text": [
      "Shape of df_users is (8751, 1).\n"
     ]
    }
   ],
   "source": [
    "df_users=pd.concat([df_tips['user_id'],df_lists['user_id']],axis=0)\n",
    "df_users=df_users[~df_users.duplicated()]\n",
    "df_users=pd.DataFrame(df_users,columns=['user_id'])\n",
    "df_users=df_users.reset_index(drop=True)\n",
    "print('Shape of df_users is {}.'.format(df_users.shape))"
   ]
  },
  {
   "cell_type": "code",
   "execution_count": 11,
   "metadata": {},
   "outputs": [],
   "source": [
    "df_tips.to_csv('./NY_restaurant_tips.csv',index=False)\n",
    "df_lists.to_csv('./NY_restaurant_lists.csv',index=False)\n",
    "df_users.to_csv('./users.csv',index=False)\n",
    "for filename in ['./NY_restaurant_tips.csv','./NY_restaurant_lists.csv','./users.csv',]:\n",
    "    cos.upload_file(Filename=filename, Bucket=credentials['BUCKET'], Key=filename )"
   ]
  },
  {
   "cell_type": "code",
   "execution_count": 53,
   "metadata": {},
   "outputs": [
    {
     "name": "stdout",
     "output_type": "stream",
     "text": [
      "(8751, 1)\n"
     ]
    },
    {
     "data": {
      "text/html": [
       "<div>\n",
       "<style scoped>\n",
       "    .dataframe tbody tr th:only-of-type {\n",
       "        vertical-align: middle;\n",
       "    }\n",
       "\n",
       "    .dataframe tbody tr th {\n",
       "        vertical-align: top;\n",
       "    }\n",
       "\n",
       "    .dataframe thead th {\n",
       "        text-align: right;\n",
       "    }\n",
       "</style>\n",
       "<table border=\"1\" class=\"dataframe\">\n",
       "  <thead>\n",
       "    <tr style=\"text-align: right;\">\n",
       "      <th></th>\n",
       "      <th>user_id</th>\n",
       "    </tr>\n",
       "  </thead>\n",
       "  <tbody>\n",
       "    <tr>\n",
       "      <th>0</th>\n",
       "      <td>1265687</td>\n",
       "    </tr>\n",
       "    <tr>\n",
       "      <th>1</th>\n",
       "      <td>192962359</td>\n",
       "    </tr>\n",
       "    <tr>\n",
       "      <th>2</th>\n",
       "      <td>2868030</td>\n",
       "    </tr>\n",
       "    <tr>\n",
       "      <th>3</th>\n",
       "      <td>59130915</td>\n",
       "    </tr>\n",
       "    <tr>\n",
       "      <th>4</th>\n",
       "      <td>35551887</td>\n",
       "    </tr>\n",
       "  </tbody>\n",
       "</table>\n",
       "</div>"
      ],
      "text/plain": [
       "     user_id\n",
       "0    1265687\n",
       "1  192962359\n",
       "2    2868030\n",
       "3   59130915\n",
       "4   35551887"
      ]
     },
     "execution_count": 53,
     "metadata": {},
     "output_type": "execute_result"
    }
   ],
   "source": [
    "print(df_users.shape)\n",
    "df_users.head()\n"
   ]
  },
  {
   "cell_type": "markdown",
   "metadata": {},
   "source": [
    "## 2.4. Liked venues by users \n",
    "<pre>Request <font color=\"#c71585\">user liked</font> restaurant in New York.</pre>"
   ]
  },
  {
   "cell_type": "markdown",
   "metadata": {},
   "source": [
    "### <span style=\"color:#CC3366\">2.4.1. Import df_tips and df_lists,which was collected before, for convenience.</span>"
   ]
  },
  {
   "cell_type": "code",
   "execution_count": 54,
   "metadata": {},
   "outputs": [
    {
     "name": "stdout",
     "output_type": "stream",
     "text": [
      "Shape of df_tips is (7006, 4).\n",
      "Shape of df_lists is (12042, 3).\n"
     ]
    }
   ],
   "source": [
    "for filename in ['./NY_restaurant_tips.csv','./NY_restaurant_lists.csv']:\n",
    "        cos.download_file(Bucket=credentials['BUCKET'],Key=filename,Filename=filename)\n",
    "\n",
    "df_tips=pd.read_csv('./NY_restaurant_tips.csv')\n",
    "df_lists=pd.read_csv('./NY_restaurant_lists.csv')\n",
    "\n",
    "print('Shape of df_tips is {}.'.format(df_tips.shape))\n",
    "print('Shape of df_lists is {}.'.format(df_lists.shape))\n",
    "#print('Shape of df_venues is {}.'.format(df_venues.shape))"
   ]
  },
  {
   "cell_type": "markdown",
   "metadata": {},
   "source": [
    "### 2.4.2. Request liked venues for each users"
   ]
  },
  {
   "cell_type": "markdown",
   "metadata": {},
   "source": [
    "> These data are collected by hourly scheduled job for several days, because the amount of query per hour is limited to 500.  \n",
    "<a href=\"https://jp-tok.dataplatform.cloud.ibm.com/analytics/notebooks/v2/ff94193e-a0a8-4903-9395-013219d9fc82/view?projectid=01ab7968-c51f-428e-803b-e152e17be8d7&context=wdp\">Collecting users' Liked data</a>"
   ]
  },
  {
   "cell_type": "markdown",
   "metadata": {},
   "source": [
    "### <span style=\"color:#CC3366\">2.4.3. Import df_liked1, df_liked2 ,which was collected before, </span>"
   ]
  },
  {
   "cell_type": "code",
   "execution_count": 55,
   "metadata": {},
   "outputs": [
    {
     "name": "stdout",
     "output_type": "stream",
     "text": [
      "(28755, 3)\n",
      "(28755, 3)\n"
     ]
    },
    {
     "data": {
      "text/html": [
       "<div>\n",
       "<style scoped>\n",
       "    .dataframe tbody tr th:only-of-type {\n",
       "        vertical-align: middle;\n",
       "    }\n",
       "\n",
       "    .dataframe tbody tr th {\n",
       "        vertical-align: top;\n",
       "    }\n",
       "\n",
       "    .dataframe thead th {\n",
       "        text-align: right;\n",
       "    }\n",
       "</style>\n",
       "<table border=\"1\" class=\"dataframe\">\n",
       "  <thead>\n",
       "    <tr style=\"text-align: right;\">\n",
       "      <th></th>\n",
       "      <th>user_id</th>\n",
       "      <th>venue_id</th>\n",
       "      <th>score</th>\n",
       "    </tr>\n",
       "  </thead>\n",
       "  <tbody>\n",
       "    <tr>\n",
       "      <th>0</th>\n",
       "      <td>1265687</td>\n",
       "      <td>5d7d2f62774999000703bdcb</td>\n",
       "      <td>2</td>\n",
       "    </tr>\n",
       "    <tr>\n",
       "      <th>1</th>\n",
       "      <td>1265687</td>\n",
       "      <td>5d7c220a72c409000888c908</td>\n",
       "      <td>2</td>\n",
       "    </tr>\n",
       "    <tr>\n",
       "      <th>2</th>\n",
       "      <td>1265687</td>\n",
       "      <td>5cc1f2e804d1ae002cf25f49</td>\n",
       "      <td>2</td>\n",
       "    </tr>\n",
       "    <tr>\n",
       "      <th>3</th>\n",
       "      <td>1265687</td>\n",
       "      <td>5c68aeb7a2a6ce002c194d62</td>\n",
       "      <td>2</td>\n",
       "    </tr>\n",
       "    <tr>\n",
       "      <th>4</th>\n",
       "      <td>1265687</td>\n",
       "      <td>5c269eb75bc27d002572ad19</td>\n",
       "      <td>2</td>\n",
       "    </tr>\n",
       "  </tbody>\n",
       "</table>\n",
       "</div>"
      ],
      "text/plain": [
       "   user_id                  venue_id  score\n",
       "0  1265687  5d7d2f62774999000703bdcb      2\n",
       "1  1265687  5d7c220a72c409000888c908      2\n",
       "2  1265687  5cc1f2e804d1ae002cf25f49      2\n",
       "3  1265687  5c68aeb7a2a6ce002c194d62      2\n",
       "4  1265687  5c269eb75bc27d002572ad19      2"
      ]
     },
     "execution_count": 55,
     "metadata": {},
     "output_type": "execute_result"
    }
   ],
   "source": [
    "for filename in ['./liked.csv','./liked2.csv','./liked3.csv','./users.csv']:\n",
    "    cos.download_file(Bucket=credentials['BUCKET'],Key=filename,Filename=filename)\n",
    "df_liked=pd.read_csv('./liked.csv')\n",
    "df_liked2=pd.read_csv('./liked2.csv')\n",
    "df_liked3=pd.read_csv('./liked3.csv')\n",
    "df_users=pd.read_csv('./users.csv')\n",
    "\n",
    "df_liked=pd.concat([df_liked,df_liked2,df_liked3],axis=0)\n",
    "print(df_liked.shape)\n",
    "df_liked=df_liked.drop_duplicates(['user_id','venue_id'],keep='last')\n",
    "print(df_liked.shape)\n",
    "df_liked.head()"
   ]
  },
  {
   "cell_type": "markdown",
   "metadata": {},
   "source": [
    "### 2.4.4. Drop records category of which is not restaurant"
   ]
  },
  {
   "cell_type": "code",
   "execution_count": 56,
   "metadata": {},
   "outputs": [],
   "source": [
    "df_liked=df_liked[df_liked['venue_id'].isin(df_venues_cat['venue_id'])]"
   ]
  },
  {
   "cell_type": "code",
   "execution_count": 57,
   "metadata": {},
   "outputs": [
    {
     "name": "stdout",
     "output_type": "stream",
     "text": [
      "(6233, 3)\n"
     ]
    },
    {
     "data": {
      "text/html": [
       "<div>\n",
       "<style scoped>\n",
       "    .dataframe tbody tr th:only-of-type {\n",
       "        vertical-align: middle;\n",
       "    }\n",
       "\n",
       "    .dataframe tbody tr th {\n",
       "        vertical-align: top;\n",
       "    }\n",
       "\n",
       "    .dataframe thead th {\n",
       "        text-align: right;\n",
       "    }\n",
       "</style>\n",
       "<table border=\"1\" class=\"dataframe\">\n",
       "  <thead>\n",
       "    <tr style=\"text-align: right;\">\n",
       "      <th></th>\n",
       "      <th>user_id</th>\n",
       "      <th>venue_id</th>\n",
       "    </tr>\n",
       "  </thead>\n",
       "  <tbody>\n",
       "    <tr>\n",
       "      <th>0</th>\n",
       "      <td>1265687</td>\n",
       "      <td>5d7d2f62774999000703bdcb</td>\n",
       "    </tr>\n",
       "    <tr>\n",
       "      <th>10</th>\n",
       "      <td>1265687</td>\n",
       "      <td>5a13402d286fda3f038703e0</td>\n",
       "    </tr>\n",
       "    <tr>\n",
       "      <th>15</th>\n",
       "      <td>1265687</td>\n",
       "      <td>582a1b095f78034bcfb69186</td>\n",
       "    </tr>\n",
       "    <tr>\n",
       "      <th>16</th>\n",
       "      <td>1265687</td>\n",
       "      <td>58225a8f001d8755c9c4bcd1</td>\n",
       "    </tr>\n",
       "    <tr>\n",
       "      <th>32</th>\n",
       "      <td>2868030</td>\n",
       "      <td>57b8f763cd10f71921e464b5</td>\n",
       "    </tr>\n",
       "  </tbody>\n",
       "</table>\n",
       "</div>"
      ],
      "text/plain": [
       "    user_id                  venue_id\n",
       "0   1265687  5d7d2f62774999000703bdcb\n",
       "10  1265687  5a13402d286fda3f038703e0\n",
       "15  1265687  582a1b095f78034bcfb69186\n",
       "16  1265687  58225a8f001d8755c9c4bcd1\n",
       "32  2868030  57b8f763cd10f71921e464b5"
      ]
     },
     "execution_count": 57,
     "metadata": {},
     "output_type": "execute_result"
    }
   ],
   "source": [
    "df_liked=df_liked.assign(score=3)\n",
    "print(df_liked.shape)\n",
    "df_liked[['user_id','venue_id']].head()"
   ]
  },
  {
   "cell_type": "markdown",
   "metadata": {},
   "source": [
    "___"
   ]
  },
  {
   "cell_type": "markdown",
   "metadata": {},
   "source": [
    "# 3. Methodology\n",
    "<pre>We assume score users to restaurant as bellow, and I think we can predict users to unevaluated venues by collaborative filtering.\n",
    " <br> - liked venues as 2<br> - venues on lists as 3 and ones on tips as 5<br> - venues same category as on lists and tips as 1</span>"
   ]
  },
  {
   "cell_type": "markdown",
   "metadata": {},
   "source": [
    "## 3.1. Score"
   ]
  },
  {
   "cell_type": "markdown",
   "metadata": {},
   "source": [
    "### 3.1.1. Venues on lists are scored as 3 and ones on tips as 5"
   ]
  },
  {
   "cell_type": "code",
   "execution_count": 17,
   "metadata": {},
   "outputs": [],
   "source": [
    "df_tips2=df_tips.assign(score=5)\n",
    "df_tips2=df_tips2.drop_duplicates(subset=['user_id','venue_id','tip_id'],keep='last')"
   ]
  },
  {
   "cell_type": "code",
   "execution_count": 18,
   "metadata": {},
   "outputs": [],
   "source": [
    "df_lists2=df_lists.assign(score=4)\n",
    "df_lists2=df_lists2.drop_duplicates(subset=['user_id','venue_id','list_id'],keep='last')"
   ]
  },
  {
   "cell_type": "code",
   "execution_count": 19,
   "metadata": {},
   "outputs": [
    {
     "name": "stdout",
     "output_type": "stream",
     "text": [
      "(5945, 5)\n",
      "(10374, 4)\n"
     ]
    }
   ],
   "source": [
    "df_tips2=df_tips2[df_tips2['venue_id'].isin(df_venues['venue_id'])]\n",
    "df_lists2=df_lists2[df_lists2['venue_id'].isin(df_venues['venue_id'])]\n",
    "print(df_tips2.shape)\n",
    "print(df_lists2.shape)"
   ]
  },
  {
   "cell_type": "markdown",
   "metadata": {},
   "source": [
    "### 3.1.2. Merge liked,tips,lists"
   ]
  },
  {
   "cell_type": "code",
   "execution_count": 20,
   "metadata": {},
   "outputs": [],
   "source": [
    "df_tmp=df_liked[df_liked['user_id'].isin(df_tips['user_id'])]\n",
    "df_like_in=df_tmp[df_tmp['venue_id'].isin(df_tips['venue_id'])]"
   ]
  },
  {
   "cell_type": "code",
   "execution_count": 21,
   "metadata": {},
   "outputs": [
    {
     "name": "stdout",
     "output_type": "stream",
     "text": [
      "(20322, 3)\n"
     ]
    },
    {
     "data": {
      "text/html": [
       "<div>\n",
       "<style scoped>\n",
       "    .dataframe tbody tr th:only-of-type {\n",
       "        vertical-align: middle;\n",
       "    }\n",
       "\n",
       "    .dataframe tbody tr th {\n",
       "        vertical-align: top;\n",
       "    }\n",
       "\n",
       "    .dataframe thead th {\n",
       "        text-align: right;\n",
       "    }\n",
       "</style>\n",
       "<table border=\"1\" class=\"dataframe\">\n",
       "  <thead>\n",
       "    <tr style=\"text-align: right;\">\n",
       "      <th></th>\n",
       "      <th>user_id</th>\n",
       "      <th>venue_id</th>\n",
       "      <th>score</th>\n",
       "    </tr>\n",
       "  </thead>\n",
       "  <tbody>\n",
       "    <tr>\n",
       "      <th>0</th>\n",
       "      <td>1265687</td>\n",
       "      <td>582a1b095f78034bcfb69186</td>\n",
       "      <td>5</td>\n",
       "    </tr>\n",
       "    <tr>\n",
       "      <th>1</th>\n",
       "      <td>192962359</td>\n",
       "      <td>582a1b095f78034bcfb69186</td>\n",
       "      <td>5</td>\n",
       "    </tr>\n",
       "    <tr>\n",
       "      <th>2</th>\n",
       "      <td>2868030</td>\n",
       "      <td>57b8f763cd10f71921e464b5</td>\n",
       "      <td>5</td>\n",
       "    </tr>\n",
       "    <tr>\n",
       "      <th>3</th>\n",
       "      <td>59130915</td>\n",
       "      <td>51ec708d498e58679aa83bca</td>\n",
       "      <td>5</td>\n",
       "    </tr>\n",
       "    <tr>\n",
       "      <th>5</th>\n",
       "      <td>35551887</td>\n",
       "      <td>541f4507498e3a898af35a90</td>\n",
       "      <td>5</td>\n",
       "    </tr>\n",
       "  </tbody>\n",
       "</table>\n",
       "</div>"
      ],
      "text/plain": [
       "     user_id                  venue_id  score\n",
       "0    1265687  582a1b095f78034bcfb69186      5\n",
       "1  192962359  582a1b095f78034bcfb69186      5\n",
       "2    2868030  57b8f763cd10f71921e464b5      5\n",
       "3   59130915  51ec708d498e58679aa83bca      5\n",
       "5   35551887  541f4507498e3a898af35a90      5"
      ]
     },
     "execution_count": 21,
     "metadata": {},
     "output_type": "execute_result"
    }
   ],
   "source": [
    "df_scores=pd.concat([df_tips2[['user_id','venue_id','score']],df_lists2[['user_id','venue_id','score']]]).drop_duplicates(['user_id','venue_id'],keep='last')\n",
    "df_scores=pd.concat([df_scores,df_like_in]).drop_duplicates(['user_id','venue_id'],keep='first')\n",
    "print(df_scores.shape)\n",
    "df_scores.head()"
   ]
  },
  {
   "cell_type": "code",
   "execution_count": 22,
   "metadata": {},
   "outputs": [
    {
     "data": {
      "text/html": [
       "<div>\n",
       "<style scoped>\n",
       "    .dataframe tbody tr th:only-of-type {\n",
       "        vertical-align: middle;\n",
       "    }\n",
       "\n",
       "    .dataframe tbody tr th {\n",
       "        vertical-align: top;\n",
       "    }\n",
       "\n",
       "    .dataframe thead th {\n",
       "        text-align: right;\n",
       "    }\n",
       "</style>\n",
       "<table border=\"1\" class=\"dataframe\">\n",
       "  <thead>\n",
       "    <tr style=\"text-align: right;\">\n",
       "      <th></th>\n",
       "      <th>user_id</th>\n",
       "      <th>venue_id</th>\n",
       "      <th>score</th>\n",
       "    </tr>\n",
       "  </thead>\n",
       "  <tbody>\n",
       "  </tbody>\n",
       "</table>\n",
       "</div>"
      ],
      "text/plain": [
       "Empty DataFrame\n",
       "Columns: [user_id, venue_id, score]\n",
       "Index: []"
      ]
     },
     "execution_count": 22,
     "metadata": {},
     "output_type": "execute_result"
    }
   ],
   "source": [
    "df_scores[~df_scores['venue_id'].isin(df_venues['venue_id'])]"
   ]
  },
  {
   "cell_type": "code",
   "execution_count": 23,
   "metadata": {},
   "outputs": [
    {
     "data": {
      "text/plain": [
       "4    10060\n",
       "5     5485\n",
       "3     4777\n",
       "Name: score, dtype: int64"
      ]
     },
     "execution_count": 23,
     "metadata": {},
     "output_type": "execute_result"
    }
   ],
   "source": [
    "df_scores['score'].value_counts()"
   ]
  },
  {
   "cell_type": "markdown",
   "metadata": {},
   "source": [
    "### 3.1.3. Venues same category as on lists and tips"
   ]
  },
  {
   "cell_type": "code",
   "execution_count": 24,
   "metadata": {},
   "outputs": [
    {
     "name": "stdout",
     "output_type": "stream",
     "text": [
      "(20322, 10)\n"
     ]
    },
    {
     "data": {
      "text/html": [
       "<div>\n",
       "<style scoped>\n",
       "    .dataframe tbody tr th:only-of-type {\n",
       "        vertical-align: middle;\n",
       "    }\n",
       "\n",
       "    .dataframe tbody tr th {\n",
       "        vertical-align: top;\n",
       "    }\n",
       "\n",
       "    .dataframe thead th {\n",
       "        text-align: right;\n",
       "    }\n",
       "</style>\n",
       "<table border=\"1\" class=\"dataframe\">\n",
       "  <thead>\n",
       "    <tr style=\"text-align: right;\">\n",
       "      <th></th>\n",
       "      <th>user_id</th>\n",
       "      <th>venue_id</th>\n",
       "      <th>score</th>\n",
       "      <th>venue_name</th>\n",
       "      <th>category1_id</th>\n",
       "      <th>category1_name</th>\n",
       "      <th>category2_id</th>\n",
       "      <th>category2_name</th>\n",
       "      <th>category3_id</th>\n",
       "      <th>category3_name</th>\n",
       "    </tr>\n",
       "  </thead>\n",
       "  <tbody>\n",
       "    <tr>\n",
       "      <th>0</th>\n",
       "      <td>1265687</td>\n",
       "      <td>582a1b095f78034bcfb69186</td>\n",
       "      <td>5</td>\n",
       "      <td>Sami's Kebab House</td>\n",
       "      <td>503288ae91d4c4b30a586d67</td>\n",
       "      <td>Afghan Restaurant</td>\n",
       "      <td>NaN</td>\n",
       "      <td>NaN</td>\n",
       "      <td>0</td>\n",
       "      <td>0</td>\n",
       "    </tr>\n",
       "    <tr>\n",
       "      <th>1</th>\n",
       "      <td>192962359</td>\n",
       "      <td>582a1b095f78034bcfb69186</td>\n",
       "      <td>5</td>\n",
       "      <td>Sami's Kebab House</td>\n",
       "      <td>503288ae91d4c4b30a586d67</td>\n",
       "      <td>Afghan Restaurant</td>\n",
       "      <td>NaN</td>\n",
       "      <td>NaN</td>\n",
       "      <td>0</td>\n",
       "      <td>0</td>\n",
       "    </tr>\n",
       "    <tr>\n",
       "      <th>2</th>\n",
       "      <td>7548664</td>\n",
       "      <td>582a1b095f78034bcfb69186</td>\n",
       "      <td>4</td>\n",
       "      <td>Sami's Kebab House</td>\n",
       "      <td>503288ae91d4c4b30a586d67</td>\n",
       "      <td>Afghan Restaurant</td>\n",
       "      <td>NaN</td>\n",
       "      <td>NaN</td>\n",
       "      <td>0</td>\n",
       "      <td>0</td>\n",
       "    </tr>\n",
       "    <tr>\n",
       "      <th>3</th>\n",
       "      <td>12113441</td>\n",
       "      <td>582a1b095f78034bcfb69186</td>\n",
       "      <td>4</td>\n",
       "      <td>Sami's Kebab House</td>\n",
       "      <td>503288ae91d4c4b30a586d67</td>\n",
       "      <td>Afghan Restaurant</td>\n",
       "      <td>NaN</td>\n",
       "      <td>NaN</td>\n",
       "      <td>0</td>\n",
       "      <td>0</td>\n",
       "    </tr>\n",
       "    <tr>\n",
       "      <th>4</th>\n",
       "      <td>125417687</td>\n",
       "      <td>582a1b095f78034bcfb69186</td>\n",
       "      <td>4</td>\n",
       "      <td>Sami's Kebab House</td>\n",
       "      <td>503288ae91d4c4b30a586d67</td>\n",
       "      <td>Afghan Restaurant</td>\n",
       "      <td>NaN</td>\n",
       "      <td>NaN</td>\n",
       "      <td>0</td>\n",
       "      <td>0</td>\n",
       "    </tr>\n",
       "  </tbody>\n",
       "</table>\n",
       "</div>"
      ],
      "text/plain": [
       "     user_id                  venue_id  score          venue_name  \\\n",
       "0    1265687  582a1b095f78034bcfb69186      5  Sami's Kebab House   \n",
       "1  192962359  582a1b095f78034bcfb69186      5  Sami's Kebab House   \n",
       "2    7548664  582a1b095f78034bcfb69186      4  Sami's Kebab House   \n",
       "3   12113441  582a1b095f78034bcfb69186      4  Sami's Kebab House   \n",
       "4  125417687  582a1b095f78034bcfb69186      4  Sami's Kebab House   \n",
       "\n",
       "               category1_id     category1_name category2_id category2_name  \\\n",
       "0  503288ae91d4c4b30a586d67  Afghan Restaurant          NaN            NaN   \n",
       "1  503288ae91d4c4b30a586d67  Afghan Restaurant          NaN            NaN   \n",
       "2  503288ae91d4c4b30a586d67  Afghan Restaurant          NaN            NaN   \n",
       "3  503288ae91d4c4b30a586d67  Afghan Restaurant          NaN            NaN   \n",
       "4  503288ae91d4c4b30a586d67  Afghan Restaurant          NaN            NaN   \n",
       "\n",
       "  category3_id category3_name  \n",
       "0            0              0  \n",
       "1            0              0  \n",
       "2            0              0  \n",
       "3            0              0  \n",
       "4            0              0  "
      ]
     },
     "execution_count": 24,
     "metadata": {},
     "output_type": "execute_result"
    }
   ],
   "source": [
    "df_scores_cat=pd.merge(df_scores,df_venues_cat,on='venue_id')\n",
    "print(df_scores_cat.shape)\n",
    "df_scores_cat.head()"
   ]
  },
  {
   "cell_type": "markdown",
   "metadata": {},
   "source": [
    "#### 3.1.3.1. Category 3 (bottom) as score 2"
   ]
  },
  {
   "cell_type": "code",
   "execution_count": 23,
   "metadata": {},
   "outputs": [
    {
     "name": "stdout",
     "output_type": "stream",
     "text": [
      "(13596757, 3)\n"
     ]
    },
    {
     "data": {
      "text/html": [
       "<div>\n",
       "<style scoped>\n",
       "    .dataframe tbody tr th:only-of-type {\n",
       "        vertical-align: middle;\n",
       "    }\n",
       "\n",
       "    .dataframe tbody tr th {\n",
       "        vertical-align: top;\n",
       "    }\n",
       "\n",
       "    .dataframe thead th {\n",
       "        text-align: right;\n",
       "    }\n",
       "</style>\n",
       "<table border=\"1\" class=\"dataframe\">\n",
       "  <thead>\n",
       "    <tr style=\"text-align: right;\">\n",
       "      <th></th>\n",
       "      <th>user_id</th>\n",
       "      <th>venue_id</th>\n",
       "      <th>score</th>\n",
       "    </tr>\n",
       "  </thead>\n",
       "  <tbody>\n",
       "    <tr>\n",
       "      <th>0</th>\n",
       "      <td>1265687</td>\n",
       "      <td>582a1b095f78034bcfb69186</td>\n",
       "      <td>2</td>\n",
       "    </tr>\n",
       "    <tr>\n",
       "      <th>1</th>\n",
       "      <td>1265687</td>\n",
       "      <td>57b8f763cd10f71921e464b5</td>\n",
       "      <td>2</td>\n",
       "    </tr>\n",
       "    <tr>\n",
       "      <th>2</th>\n",
       "      <td>1265687</td>\n",
       "      <td>51ec708d498e58679aa83bca</td>\n",
       "      <td>2</td>\n",
       "    </tr>\n",
       "    <tr>\n",
       "      <th>3</th>\n",
       "      <td>1265687</td>\n",
       "      <td>541f4507498e3a898af35a90</td>\n",
       "      <td>2</td>\n",
       "    </tr>\n",
       "    <tr>\n",
       "      <th>4</th>\n",
       "      <td>1265687</td>\n",
       "      <td>4d1e78d2dd6a236a57532738</td>\n",
       "      <td>2</td>\n",
       "    </tr>\n",
       "  </tbody>\n",
       "</table>\n",
       "</div>"
      ],
      "text/plain": [
       "   user_id                  venue_id score\n",
       "0  1265687  582a1b095f78034bcfb69186     2\n",
       "1  1265687  57b8f763cd10f71921e464b5     2\n",
       "2  1265687  51ec708d498e58679aa83bca     2\n",
       "3  1265687  541f4507498e3a898af35a90     2\n",
       "4  1265687  4d1e78d2dd6a236a57532738     2"
      ]
     },
     "execution_count": 23,
     "metadata": {},
     "output_type": "execute_result"
    }
   ],
   "source": [
    "tmp=[[uid,df_scores_cat[(df_scores_cat['category3_id'].isin(df_scores_cat[df_scores_cat['user_id']==uid].category3_id.unique()))&(df_scores_cat['user_id']!=uid)].venue_id.unique().tolist()] for uid in df_scores_cat['user_id'].unique()]\n",
    "tmp2=[np.array([np.full(len(r[1]),r[0]),r[1],np.full(len(r[1]),2)]).T.tolist() for r in tmp]\n",
    "import itertools\n",
    "add_cat3=list(itertools.chain.from_iterable(tmp2))\n",
    "df_add_cat3=pd.DataFrame(add_cat3,columns=['user_id','venue_id','score'])\n",
    "print(df_add_cat3.shape)\n",
    "df_add_cat3.head()"
   ]
  },
  {
   "cell_type": "code",
   "execution_count": 24,
   "metadata": {},
   "outputs": [],
   "source": [
    "df_add_cat3.to_csv('./df_add_cat3.csv',index=False)\n",
    "for filename in ['./df_add_cat3.csv']:\n",
    "    cos.upload_file(Filename=filename, Bucket=credentials['BUCKET'], Key=filename )"
   ]
  },
  {
   "cell_type": "markdown",
   "metadata": {},
   "source": [
    "#### 3.1.3.2. Category 2 (middle) as score 2"
   ]
  },
  {
   "cell_type": "code",
   "execution_count": 25,
   "metadata": {},
   "outputs": [
    {
     "name": "stdout",
     "output_type": "stream",
     "text": [
      "(7084967, 3)\n"
     ]
    },
    {
     "data": {
      "text/html": [
       "<div>\n",
       "<style scoped>\n",
       "    .dataframe tbody tr th:only-of-type {\n",
       "        vertical-align: middle;\n",
       "    }\n",
       "\n",
       "    .dataframe tbody tr th {\n",
       "        vertical-align: top;\n",
       "    }\n",
       "\n",
       "    .dataframe thead th {\n",
       "        text-align: right;\n",
       "    }\n",
       "</style>\n",
       "<table border=\"1\" class=\"dataframe\">\n",
       "  <thead>\n",
       "    <tr style=\"text-align: right;\">\n",
       "      <th></th>\n",
       "      <th>user_id</th>\n",
       "      <th>venue_id</th>\n",
       "      <th>score</th>\n",
       "    </tr>\n",
       "  </thead>\n",
       "  <tbody>\n",
       "    <tr>\n",
       "      <th>0</th>\n",
       "      <td>1265687</td>\n",
       "      <td>582a1b095f78034bcfb69186</td>\n",
       "      <td>1</td>\n",
       "    </tr>\n",
       "    <tr>\n",
       "      <th>1</th>\n",
       "      <td>1265687</td>\n",
       "      <td>57b8f763cd10f71921e464b5</td>\n",
       "      <td>1</td>\n",
       "    </tr>\n",
       "    <tr>\n",
       "      <th>2</th>\n",
       "      <td>1265687</td>\n",
       "      <td>51ec708d498e58679aa83bca</td>\n",
       "      <td>1</td>\n",
       "    </tr>\n",
       "    <tr>\n",
       "      <th>3</th>\n",
       "      <td>1265687</td>\n",
       "      <td>541f4507498e3a898af35a90</td>\n",
       "      <td>1</td>\n",
       "    </tr>\n",
       "    <tr>\n",
       "      <th>4</th>\n",
       "      <td>1265687</td>\n",
       "      <td>4d1e78d2dd6a236a57532738</td>\n",
       "      <td>1</td>\n",
       "    </tr>\n",
       "  </tbody>\n",
       "</table>\n",
       "</div>"
      ],
      "text/plain": [
       "   user_id                  venue_id score\n",
       "0  1265687  582a1b095f78034bcfb69186     1\n",
       "1  1265687  57b8f763cd10f71921e464b5     1\n",
       "2  1265687  51ec708d498e58679aa83bca     1\n",
       "3  1265687  541f4507498e3a898af35a90     1\n",
       "4  1265687  4d1e78d2dd6a236a57532738     1"
      ]
     },
     "execution_count": 25,
     "metadata": {},
     "output_type": "execute_result"
    }
   ],
   "source": [
    "import itertools\n",
    "tmp=[[uid,df_scores_cat[(df_scores_cat['category2_id'].isin(df_scores_cat[df_scores_cat['user_id']==uid].category2_id.unique()))&(df_scores_cat['user_id']!=uid)].venue_id.unique().tolist()] for uid in df_scores_cat['user_id'].unique()]\n",
    "tmp2= [np.array([np.full(len(r[1]),r[0]),r[1],np.full(len(r[1]),1)]).T.tolist() for r in tmp]\n",
    "add_cat2=list(itertools.chain.from_iterable(tmp2))\n",
    "df_add_cat2=pd.DataFrame(add_cat2,columns=['user_id','venue_id','score'])\n",
    "print(df_add_cat2.shape)\n",
    "df_add_cat2.head()"
   ]
  },
  {
   "cell_type": "code",
   "execution_count": 26,
   "metadata": {},
   "outputs": [],
   "source": [
    "df_add_cat2.to_csv('./df_add_cat2.csv',index=False)\n",
    "for filename in ['./df_add_cat2.csv']:\n",
    "    cos.upload_file(Filename=filename, Bucket=credentials['BUCKET'], Key=filename )"
   ]
  },
  {
   "cell_type": "markdown",
   "metadata": {},
   "source": [
    "#### 3.1.3.3. Category 1 (top) as score 2"
   ]
  },
  {
   "cell_type": "code",
   "execution_count": 25,
   "metadata": {},
   "outputs": [
    {
     "name": "stdout",
     "output_type": "stream",
     "text": [
      "(2561259, 3)\n"
     ]
    },
    {
     "data": {
      "text/html": [
       "<div>\n",
       "<style scoped>\n",
       "    .dataframe tbody tr th:only-of-type {\n",
       "        vertical-align: middle;\n",
       "    }\n",
       "\n",
       "    .dataframe tbody tr th {\n",
       "        vertical-align: top;\n",
       "    }\n",
       "\n",
       "    .dataframe thead th {\n",
       "        text-align: right;\n",
       "    }\n",
       "</style>\n",
       "<table border=\"1\" class=\"dataframe\">\n",
       "  <thead>\n",
       "    <tr style=\"text-align: right;\">\n",
       "      <th></th>\n",
       "      <th>user_id</th>\n",
       "      <th>venue_id</th>\n",
       "      <th>score</th>\n",
       "    </tr>\n",
       "  </thead>\n",
       "  <tbody>\n",
       "    <tr>\n",
       "      <th>0</th>\n",
       "      <td>1265687</td>\n",
       "      <td>582a1b095f78034bcfb69186</td>\n",
       "      <td>1</td>\n",
       "    </tr>\n",
       "    <tr>\n",
       "      <th>1</th>\n",
       "      <td>1265687</td>\n",
       "      <td>57b8f763cd10f71921e464b5</td>\n",
       "      <td>1</td>\n",
       "    </tr>\n",
       "    <tr>\n",
       "      <th>2</th>\n",
       "      <td>1265687</td>\n",
       "      <td>51ec708d498e58679aa83bca</td>\n",
       "      <td>1</td>\n",
       "    </tr>\n",
       "    <tr>\n",
       "      <th>3</th>\n",
       "      <td>1265687</td>\n",
       "      <td>541f4507498e3a898af35a90</td>\n",
       "      <td>1</td>\n",
       "    </tr>\n",
       "    <tr>\n",
       "      <th>4</th>\n",
       "      <td>1265687</td>\n",
       "      <td>4d1e78d2dd6a236a57532738</td>\n",
       "      <td>1</td>\n",
       "    </tr>\n",
       "  </tbody>\n",
       "</table>\n",
       "</div>"
      ],
      "text/plain": [
       "   user_id                  venue_id score\n",
       "0  1265687  582a1b095f78034bcfb69186     1\n",
       "1  1265687  57b8f763cd10f71921e464b5     1\n",
       "2  1265687  51ec708d498e58679aa83bca     1\n",
       "3  1265687  541f4507498e3a898af35a90     1\n",
       "4  1265687  4d1e78d2dd6a236a57532738     1"
      ]
     },
     "execution_count": 25,
     "metadata": {},
     "output_type": "execute_result"
    }
   ],
   "source": [
    "import itertools\n",
    "tmp=[[uid,df_scores_cat[(df_scores_cat['category1_id'].isin(df_scores_cat[df_scores_cat['user_id']==uid].category1_id.unique()))&(df_scores_cat['user_id']!=uid)].venue_id.unique().tolist()] for uid in df_scores_cat['user_id'].unique()]\n",
    "tmp2= [np.array([np.full(len(r[1]),r[0]),r[1],np.full(len(r[1]),1)]).T.tolist() for r in tmp]\n",
    "add_cat1=list(itertools.chain.from_iterable(tmp2))\n",
    "df_add_cat1=pd.DataFrame(add_cat1,columns=['user_id','venue_id','score'])\n",
    "print(df_add_cat1.shape)\n",
    "df_add_cat1.head()"
   ]
  },
  {
   "cell_type": "code",
   "execution_count": 26,
   "metadata": {},
   "outputs": [],
   "source": [
    "df_add_cat1.to_csv('./df_add_cat1.csv',index=False)\n",
    "for filename in ['./df_add_cat1.csv']:\n",
    "    cos.upload_file(Filename=filename, Bucket=credentials['BUCKET'], Key=filename )"
   ]
  },
  {
   "cell_type": "markdown",
   "metadata": {},
   "source": [
    "### 3.1.4. Merge all to scores data"
   ]
  },
  {
   "cell_type": "code",
   "execution_count": 27,
   "metadata": {},
   "outputs": [],
   "source": [
    "for filename in ['./df_add_cat3.csv','./df_add_cat2.csv','./df_add_cat1.csv']:\n",
    "    cos.download_file(Bucket=credentials['BUCKET'],Key=filename,Filename=filename)"
   ]
  },
  {
   "cell_type": "code",
   "execution_count": 28,
   "metadata": {},
   "outputs": [],
   "source": [
    "df_add_cat3=pd.read_csv('./df_add_cat3.csv')\n",
    "df_add_cat2=pd.read_csv('./df_add_cat2.csv')\n",
    "df_add_cat1=pd.read_csv('./df_add_cat1.csv')"
   ]
  },
  {
   "cell_type": "code",
   "execution_count": 33,
   "metadata": {},
   "outputs": [
    {
     "name": "stdout",
     "output_type": "stream",
     "text": [
      "(15218507, 3)\n"
     ]
    },
    {
     "data": {
      "text/html": [
       "<div>\n",
       "<style scoped>\n",
       "    .dataframe tbody tr th:only-of-type {\n",
       "        vertical-align: middle;\n",
       "    }\n",
       "\n",
       "    .dataframe tbody tr th {\n",
       "        vertical-align: top;\n",
       "    }\n",
       "\n",
       "    .dataframe thead th {\n",
       "        text-align: right;\n",
       "    }\n",
       "</style>\n",
       "<table border=\"1\" class=\"dataframe\">\n",
       "  <thead>\n",
       "    <tr style=\"text-align: right;\">\n",
       "      <th></th>\n",
       "      <th>user_id</th>\n",
       "      <th>venue_id</th>\n",
       "      <th>score</th>\n",
       "    </tr>\n",
       "  </thead>\n",
       "  <tbody>\n",
       "    <tr>\n",
       "      <th>0</th>\n",
       "      <td>1265687</td>\n",
       "      <td>582a1b095f78034bcfb69186</td>\n",
       "      <td>5</td>\n",
       "    </tr>\n",
       "    <tr>\n",
       "      <th>1</th>\n",
       "      <td>192962359</td>\n",
       "      <td>582a1b095f78034bcfb69186</td>\n",
       "      <td>5</td>\n",
       "    </tr>\n",
       "    <tr>\n",
       "      <th>2</th>\n",
       "      <td>2868030</td>\n",
       "      <td>57b8f763cd10f71921e464b5</td>\n",
       "      <td>5</td>\n",
       "    </tr>\n",
       "    <tr>\n",
       "      <th>3</th>\n",
       "      <td>59130915</td>\n",
       "      <td>51ec708d498e58679aa83bca</td>\n",
       "      <td>5</td>\n",
       "    </tr>\n",
       "    <tr>\n",
       "      <th>5</th>\n",
       "      <td>35551887</td>\n",
       "      <td>541f4507498e3a898af35a90</td>\n",
       "      <td>5</td>\n",
       "    </tr>\n",
       "  </tbody>\n",
       "</table>\n",
       "</div>"
      ],
      "text/plain": [
       "     user_id                  venue_id  score\n",
       "0    1265687  582a1b095f78034bcfb69186      5\n",
       "1  192962359  582a1b095f78034bcfb69186      5\n",
       "2    2868030  57b8f763cd10f71921e464b5      5\n",
       "3   59130915  51ec708d498e58679aa83bca      5\n",
       "5   35551887  541f4507498e3a898af35a90      5"
      ]
     },
     "execution_count": 33,
     "metadata": {},
     "output_type": "execute_result"
    }
   ],
   "source": [
    "df_scores=pd.concat([df_scores,df_add_cat3,df_add_cat2,df_add_cat1]).drop_duplicates(subset=['user_id','venue_id'],keep='first')\n",
    "print(df_scores.shape)\n",
    "df_scores.head()"
   ]
  },
  {
   "cell_type": "code",
   "execution_count": 34,
   "metadata": {},
   "outputs": [],
   "source": [
    "df_scores.to_csv('./df_scores.csv',index=False)\n",
    "for filename in ['./df_scores.csv']:\n",
    "    cos.upload_file(Filename=filename, Bucket=credentials['BUCKET'], Key=filename )"
   ]
  },
  {
   "cell_type": "code",
   "execution_count": 8,
   "metadata": {},
   "outputs": [],
   "source": [
    "for filename in ['./df_scores.csv']:\n",
    "    cos.download_file(Bucket=credentials['BUCKET'],Key=filename,Filename=filename)\n",
    "df_scores=pd.read_csv('./df_scores.csv')"
   ]
  },
  {
   "cell_type": "code",
   "execution_count": 30,
   "metadata": {},
   "outputs": [
    {
     "data": {
      "text/html": [
       "<div>\n",
       "<style scoped>\n",
       "    .dataframe tbody tr th:only-of-type {\n",
       "        vertical-align: middle;\n",
       "    }\n",
       "\n",
       "    .dataframe tbody tr th {\n",
       "        vertical-align: top;\n",
       "    }\n",
       "\n",
       "    .dataframe thead th {\n",
       "        text-align: right;\n",
       "    }\n",
       "</style>\n",
       "<table border=\"1\" class=\"dataframe\">\n",
       "  <thead>\n",
       "    <tr style=\"text-align: right;\">\n",
       "      <th></th>\n",
       "      <th>user_id</th>\n",
       "      <th>venue_id</th>\n",
       "    </tr>\n",
       "    <tr>\n",
       "      <th>score</th>\n",
       "      <th></th>\n",
       "      <th></th>\n",
       "    </tr>\n",
       "  </thead>\n",
       "  <tbody>\n",
       "    <tr>\n",
       "      <th>3</th>\n",
       "      <td>4777</td>\n",
       "      <td>4777</td>\n",
       "    </tr>\n",
       "    <tr>\n",
       "      <th>4</th>\n",
       "      <td>10060</td>\n",
       "      <td>10060</td>\n",
       "    </tr>\n",
       "    <tr>\n",
       "      <th>5</th>\n",
       "      <td>5485</td>\n",
       "      <td>5485</td>\n",
       "    </tr>\n",
       "  </tbody>\n",
       "</table>\n",
       "</div>"
      ],
      "text/plain": [
       "       user_id  venue_id\n",
       "score                   \n",
       "3         4777      4777\n",
       "4        10060     10060\n",
       "5         5485      5485"
      ]
     },
     "execution_count": 30,
     "metadata": {},
     "output_type": "execute_result"
    }
   ],
   "source": [
    "df_scores.groupby('score').count()"
   ]
  },
  {
   "cell_type": "markdown",
   "metadata": {},
   "source": [
    "## 3.2. Collaborative filtering\n",
    "<pre>Predict users' ratings for venues ,using machine learning algolism(Collaborative filtering).</pre>"
   ]
  },
  {
   "cell_type": "markdown",
   "metadata": {},
   "source": [
    "### 3.2.1. import modules \n",
    "> Use 'scipy.optimize' to optimizing"
   ]
  },
  {
   "cell_type": "code",
   "execution_count": 9,
   "metadata": {},
   "outputs": [],
   "source": [
    "import random\n",
    "import scipy.optimize as spo"
   ]
  },
  {
   "cell_type": "markdown",
   "metadata": {},
   "source": [
    "### 3.2.2. Normalization function"
   ]
  },
  {
   "cell_type": "code",
   "execution_count": 10,
   "metadata": {},
   "outputs": [],
   "source": [
    "def normalizeRatings(Y, R):\n",
    "    m, n = Y.shape\n",
    "    Ymean = np.zeros((m, 1))\n",
    "    Ynorm = np.zeros(Y.shape);\n",
    "    for i in range(m):\n",
    "        idx = np.where(R[i, :] == 1)\n",
    "        Ymean[i] = np.mean(Y[i, idx])\n",
    "        Ynorm[i, idx] = Y[i, idx] - Ymean[i]\n",
    "    return Ynorm,Ymean"
   ]
  },
  {
   "cell_type": "markdown",
   "metadata": {},
   "source": [
    "### 3.2.3. Cost function"
   ]
  },
  {
   "cell_type": "code",
   "execution_count": 11,
   "metadata": {},
   "outputs": [],
   "source": [
    "def cofiCostFunc(params, Y, R, num_users, num_venues,num_features, lamda):\n",
    "    X = params[0:num_venues*num_features].reshape(num_venues, num_features)\n",
    "    Theta = params[num_venues*num_features:].reshape(num_users, num_features)\n",
    "\n",
    "    J = 0\n",
    "    J = 1/2 * ((X@Theta.T)[R==1]-Y[R==1]).T@((X@Theta.T)[R==1]-Y[R==1])+ np.sum(lamda/2*Theta.T@Theta) + np.sum(lamda/2*X.T@X)\n",
    "    print(J)\n",
    "    X_grad = np.zeros(X.shape)\n",
    "    Theta_grad = np.zeros(Theta.shape)\n",
    "    for i in range(X.shape[0]):\n",
    "        Theta2=Theta[np.where(R[i,:]==1)[0],:]\n",
    "        Y2=Y[i,np.where(R[i,:]==1)]\n",
    "        X_grad[i,:]= ((Theta2@X[i,:].T).T - Y2)@Theta2 + lamda*X[i,:]\n",
    "    for i in range(num_users):\n",
    "        X2 = X[np.where(R[:, i] == 1)[0],:]\n",
    "        Y2 = Y[np.where(R[:, i] == 1)[0],i]\n",
    "        Theta_grad[i, :] = (X2 @ Theta[i, :].T - Y2).T @ X2 + lamda*Theta[i,:]\n",
    "        \n",
    "    grad = np.hstack((X_grad.flatten(),Theta_grad.flatten()))\n",
    "    return J,grad\n"
   ]
  },
  {
   "cell_type": "markdown",
   "metadata": {},
   "source": [
    "### 3.2.4. Create a user and scores per venue matrix"
   ]
  },
  {
   "cell_type": "code",
   "execution_count": 12,
   "metadata": {},
   "outputs": [],
   "source": [
    "df_scores_mtx= df_scores.pivot_table(values=['score'], index=['venue_id'], columns=['user_id'],aggfunc='first')"
   ]
  },
  {
   "cell_type": "code",
   "execution_count": 13,
   "metadata": {},
   "outputs": [
    {
     "data": {
      "text/html": [
       "<div>\n",
       "<style scoped>\n",
       "    .dataframe tbody tr th:only-of-type {\n",
       "        vertical-align: middle;\n",
       "    }\n",
       "\n",
       "    .dataframe tbody tr th {\n",
       "        vertical-align: top;\n",
       "    }\n",
       "\n",
       "    .dataframe thead th {\n",
       "        text-align: right;\n",
       "    }\n",
       "</style>\n",
       "<table border=\"1\" class=\"dataframe\">\n",
       "  <thead>\n",
       "    <tr style=\"text-align: right;\">\n",
       "      <th></th>\n",
       "      <th>32</th>\n",
       "      <th>33</th>\n",
       "      <th>37</th>\n",
       "      <th>56</th>\n",
       "      <th>59</th>\n",
       "      <th>61</th>\n",
       "      <th>135</th>\n",
       "      <th>140</th>\n",
       "      <th>144</th>\n",
       "      <th>209</th>\n",
       "      <th>...</th>\n",
       "      <th>580275015</th>\n",
       "      <th>580677105</th>\n",
       "      <th>585725013</th>\n",
       "      <th>585818227</th>\n",
       "      <th>587939460</th>\n",
       "      <th>1357960095</th>\n",
       "      <th>1357964016</th>\n",
       "      <th>1358164521</th>\n",
       "      <th>1358200299</th>\n",
       "      <th>1358569300</th>\n",
       "    </tr>\n",
       "  </thead>\n",
       "  <tbody>\n",
       "    <tr>\n",
       "      <th>3fd66200f964a52004e61ee3</th>\n",
       "      <td>2.0</td>\n",
       "      <td>2.0</td>\n",
       "      <td>2.0</td>\n",
       "      <td>2.0</td>\n",
       "      <td>NaN</td>\n",
       "      <td>2.0</td>\n",
       "      <td>2.0</td>\n",
       "      <td>2.0</td>\n",
       "      <td>NaN</td>\n",
       "      <td>NaN</td>\n",
       "      <td>...</td>\n",
       "      <td>NaN</td>\n",
       "      <td>NaN</td>\n",
       "      <td>NaN</td>\n",
       "      <td>NaN</td>\n",
       "      <td>NaN</td>\n",
       "      <td>NaN</td>\n",
       "      <td>NaN</td>\n",
       "      <td>NaN</td>\n",
       "      <td>NaN</td>\n",
       "      <td>2.0</td>\n",
       "    </tr>\n",
       "    <tr>\n",
       "      <th>3fd66200f964a52005e81ee3</th>\n",
       "      <td>2.0</td>\n",
       "      <td>2.0</td>\n",
       "      <td>2.0</td>\n",
       "      <td>2.0</td>\n",
       "      <td>2.0</td>\n",
       "      <td>2.0</td>\n",
       "      <td>2.0</td>\n",
       "      <td>NaN</td>\n",
       "      <td>NaN</td>\n",
       "      <td>2.0</td>\n",
       "      <td>...</td>\n",
       "      <td>2.0</td>\n",
       "      <td>NaN</td>\n",
       "      <td>2.0</td>\n",
       "      <td>NaN</td>\n",
       "      <td>NaN</td>\n",
       "      <td>NaN</td>\n",
       "      <td>2.0</td>\n",
       "      <td>2.0</td>\n",
       "      <td>2.0</td>\n",
       "      <td>NaN</td>\n",
       "    </tr>\n",
       "    <tr>\n",
       "      <th>3fd66200f964a52006ea1ee3</th>\n",
       "      <td>2.0</td>\n",
       "      <td>2.0</td>\n",
       "      <td>2.0</td>\n",
       "      <td>2.0</td>\n",
       "      <td>2.0</td>\n",
       "      <td>2.0</td>\n",
       "      <td>2.0</td>\n",
       "      <td>NaN</td>\n",
       "      <td>NaN</td>\n",
       "      <td>2.0</td>\n",
       "      <td>...</td>\n",
       "      <td>2.0</td>\n",
       "      <td>NaN</td>\n",
       "      <td>2.0</td>\n",
       "      <td>NaN</td>\n",
       "      <td>NaN</td>\n",
       "      <td>NaN</td>\n",
       "      <td>2.0</td>\n",
       "      <td>2.0</td>\n",
       "      <td>2.0</td>\n",
       "      <td>NaN</td>\n",
       "    </tr>\n",
       "    <tr>\n",
       "      <th>3fd66200f964a52008e71ee3</th>\n",
       "      <td>NaN</td>\n",
       "      <td>NaN</td>\n",
       "      <td>1.0</td>\n",
       "      <td>NaN</td>\n",
       "      <td>NaN</td>\n",
       "      <td>NaN</td>\n",
       "      <td>NaN</td>\n",
       "      <td>NaN</td>\n",
       "      <td>1.0</td>\n",
       "      <td>NaN</td>\n",
       "      <td>...</td>\n",
       "      <td>NaN</td>\n",
       "      <td>NaN</td>\n",
       "      <td>NaN</td>\n",
       "      <td>NaN</td>\n",
       "      <td>1.0</td>\n",
       "      <td>NaN</td>\n",
       "      <td>NaN</td>\n",
       "      <td>NaN</td>\n",
       "      <td>NaN</td>\n",
       "      <td>NaN</td>\n",
       "    </tr>\n",
       "    <tr>\n",
       "      <th>3fd66200f964a5200eea1ee3</th>\n",
       "      <td>1.0</td>\n",
       "      <td>2.0</td>\n",
       "      <td>1.0</td>\n",
       "      <td>NaN</td>\n",
       "      <td>NaN</td>\n",
       "      <td>1.0</td>\n",
       "      <td>1.0</td>\n",
       "      <td>NaN</td>\n",
       "      <td>NaN</td>\n",
       "      <td>NaN</td>\n",
       "      <td>...</td>\n",
       "      <td>NaN</td>\n",
       "      <td>1.0</td>\n",
       "      <td>NaN</td>\n",
       "      <td>1.0</td>\n",
       "      <td>NaN</td>\n",
       "      <td>1.0</td>\n",
       "      <td>NaN</td>\n",
       "      <td>NaN</td>\n",
       "      <td>NaN</td>\n",
       "      <td>NaN</td>\n",
       "    </tr>\n",
       "  </tbody>\n",
       "</table>\n",
       "<p>5 rows × 7779 columns</p>\n",
       "</div>"
      ],
      "text/plain": [
       "                          32          33          37          56          \\\n",
       "3fd66200f964a52004e61ee3         2.0         2.0         2.0         2.0   \n",
       "3fd66200f964a52005e81ee3         2.0         2.0         2.0         2.0   \n",
       "3fd66200f964a52006ea1ee3         2.0         2.0         2.0         2.0   \n",
       "3fd66200f964a52008e71ee3         NaN         NaN         1.0         NaN   \n",
       "3fd66200f964a5200eea1ee3         1.0         2.0         1.0         NaN   \n",
       "\n",
       "                          59          61          135         140         \\\n",
       "3fd66200f964a52004e61ee3         NaN         2.0         2.0         2.0   \n",
       "3fd66200f964a52005e81ee3         2.0         2.0         2.0         NaN   \n",
       "3fd66200f964a52006ea1ee3         2.0         2.0         2.0         NaN   \n",
       "3fd66200f964a52008e71ee3         NaN         NaN         NaN         NaN   \n",
       "3fd66200f964a5200eea1ee3         NaN         1.0         1.0         NaN   \n",
       "\n",
       "                          144         209         ...  580275015   580677105   \\\n",
       "3fd66200f964a52004e61ee3         NaN         NaN  ...         NaN         NaN   \n",
       "3fd66200f964a52005e81ee3         NaN         2.0  ...         2.0         NaN   \n",
       "3fd66200f964a52006ea1ee3         NaN         2.0  ...         2.0         NaN   \n",
       "3fd66200f964a52008e71ee3         1.0         NaN  ...         NaN         NaN   \n",
       "3fd66200f964a5200eea1ee3         NaN         NaN  ...         NaN         1.0   \n",
       "\n",
       "                          585725013   585818227   587939460   1357960095  \\\n",
       "3fd66200f964a52004e61ee3         NaN         NaN         NaN         NaN   \n",
       "3fd66200f964a52005e81ee3         2.0         NaN         NaN         NaN   \n",
       "3fd66200f964a52006ea1ee3         2.0         NaN         NaN         NaN   \n",
       "3fd66200f964a52008e71ee3         NaN         NaN         1.0         NaN   \n",
       "3fd66200f964a5200eea1ee3         NaN         1.0         NaN         1.0   \n",
       "\n",
       "                          1357964016  1358164521  1358200299  1358569300  \n",
       "3fd66200f964a52004e61ee3         NaN         NaN         NaN         2.0  \n",
       "3fd66200f964a52005e81ee3         2.0         2.0         2.0         NaN  \n",
       "3fd66200f964a52006ea1ee3         2.0         2.0         2.0         NaN  \n",
       "3fd66200f964a52008e71ee3         NaN         NaN         NaN         NaN  \n",
       "3fd66200f964a5200eea1ee3         NaN         NaN         NaN         NaN  \n",
       "\n",
       "[5 rows x 7779 columns]"
      ]
     },
     "execution_count": 13,
     "metadata": {},
     "output_type": "execute_result"
    }
   ],
   "source": [
    "cols=[col[1] for col in df_scores_mtx.columns.values]\n",
    "df_scores_mtx=pd.DataFrame(df_scores_mtx.values,index=df_scores_mtx.index.values,columns=cols)\n",
    "df_scores_mtx.head()"
   ]
  },
  {
   "cell_type": "code",
   "execution_count": 31,
   "metadata": {},
   "outputs": [
    {
     "data": {
      "text/plain": [
       "4b280f8cf964a520698e24e3    12541.0\n",
       "4bda0c1b3904a593aed6449e    12540.0\n",
       "4bbf6e1185fbb713212e7267    12540.0\n",
       "5ba28943625a66002c3cfc11    12540.0\n",
       "551c38fb498e667476a42e53    12539.0\n",
       "4d6d7ebcfbf0a0934fc7008d    12539.0\n",
       "5c2034be149946002ca3f315    12539.0\n",
       "5c563103cf72a00039a20084    12537.0\n",
       "4d291bbe6e27a1435d752124    12537.0\n",
       "4a987360f964a520192c20e3    12535.0\n",
       "53de8241498e5e65f14a2fbb    12535.0\n",
       "5669bf25498e58d3a93a63cf    12534.0\n",
       "577fd3ed498ee0e17a0a1a8c    12533.0\n",
       "5083573ee4b09e409cb9cb86    12531.0\n",
       "526707f211d20789b84aea4c    11843.0\n",
       "59fa5dda82a7507f228bc618    11843.0\n",
       "4a3ee14ef964a52085a31fe3    11841.0\n",
       "4a903faef964a520ca1620e3    11840.0\n",
       "4f877b60e4b07f1a33a27d3f    11840.0\n",
       "51eb299f498e7623c03c2d42    11840.0\n",
       "587e6bea01f07747d2b94591    11840.0\n",
       "580bbed438faa26bf0ed9bf2    11840.0\n",
       "3fd66200f964a52049e81ee3    11839.0\n",
       "52f7d70e11d203df776339da    11839.0\n",
       "5af61fc822d490002c7a11ea    11839.0\n",
       "4a7f5714f964a520bbf31fe3    11838.0\n",
       "50494b11805554bc694d756f    11838.0\n",
       "4b526983f964a5200c7c27e3    11838.0\n",
       "4debcfd645dd3993a8af6691    11838.0\n",
       "4a2eb22df964a52035981fe3    11838.0\n",
       "                             ...   \n",
       "4d5efaf1196ba093ac300856      898.0\n",
       "4bb619bc46d4a59352aec5c0      898.0\n",
       "4bf36cd72d62952118f85f58      898.0\n",
       "4bc4f4310191c9b6c2e2eab1      898.0\n",
       "4e11126fd4c07597ff7e2266      898.0\n",
       "58ed775624ca6a1d5ea1fcd0      894.0\n",
       "4bb775ab7421a5932b77c040      894.0\n",
       "4baf8346f964a52006063ce3      894.0\n",
       "593c9e933362735a7e587e8a      892.0\n",
       "5e2f27c259586f00077199af      891.0\n",
       "5af50c205f68b9002c24b5c3      887.0\n",
       "4c46ff910f5aa593ef4e7c76      886.0\n",
       "5beb1e3bdab4b13c626a32d1      886.0\n",
       "4e3e2ee3b61cb577be82354b      841.0\n",
       "58b1f7f125911e5ade366f6e      840.0\n",
       "59760acb9d6a19214ff8f451      835.0\n",
       "595ba4c0840fc216ec11b590      833.0\n",
       "5a904e316adbf57e23070305      832.0\n",
       "5dbf4384c1e02900080b076b      832.0\n",
       "575f3cf9498e86900c45e88a      832.0\n",
       "58a3a0629343e04e8ed6efad      832.0\n",
       "5adcbd038173cb433ff5350d      487.0\n",
       "4b60bc6ff964a5208af629e3      477.0\n",
       "59e633db3149b917590f3043      477.0\n",
       "5be4daccecb3ed0032392949      477.0\n",
       "518597db498e6737687e187e      469.0\n",
       "590e07a81bc704026f2e9400      469.0\n",
       "4cddd9dadb125481c4f22cce      469.0\n",
       "4c48daaba3ace21e0be4cb3a      467.0\n",
       "5861a87c8f0be461c074f54e      466.0\n",
       "Length: 3428, dtype: float64"
      ]
     },
     "execution_count": 31,
     "metadata": {},
     "output_type": "execute_result"
    }
   ],
   "source": [
    "df_scores_mtx.sum(axis=1).sort_values(ascending=False)"
   ]
  },
  {
   "cell_type": "markdown",
   "metadata": {},
   "source": [
    "### 3.2.5. Look up data"
   ]
  },
  {
   "cell_type": "code",
   "execution_count": 13,
   "metadata": {},
   "outputs": [
    {
     "data": {
      "image/png": "[encoded data removed]",
      "text/plain": [
       "<Figure size 750x500 with 1 Axes>"
      ]
     },
     "metadata": {
      "needs_background": "light"
     },
     "output_type": "display_data"
    }
   ],
   "source": [
    "\n",
    "plt.figure(figsize=(15,10),dpi=50)\n",
    "plt.hist(df_scores_mtx.sum(axis=1).sort_values(ascending=False).values)\n",
    "plt.xlabel('score')\n",
    "plt.show()"
   ]
  },
  {
   "cell_type": "code",
   "execution_count": 14,
   "metadata": {},
   "outputs": [
    {
     "data": {
      "image/png": "[encoded data removed]",
      "text/plain": [
       "<Figure size 500x250 with 1 Axes>"
      ]
     },
     "metadata": {
      "needs_background": "light"
     },
     "output_type": "display_data"
    }
   ],
   "source": [
    "plt.figure(figsize=(10,5),dpi=50)\n",
    "plt.hist(df_scores_mtx.count(axis=0).sort_values(ascending=False).values,bins=100,range=(80,100))\n",
    "plt.ylabel('score')\n",
    "plt.show()"
   ]
  },
  {
   "cell_type": "markdown",
   "metadata": {},
   "source": [
    "### 3.2.6. Create Y and R matrics"
   ]
  },
  {
   "cell_type": "code",
   "execution_count": 14,
   "metadata": {},
   "outputs": [
    {
     "data": {
      "text/html": [
       "<div>\n",
       "<style scoped>\n",
       "    .dataframe tbody tr th:only-of-type {\n",
       "        vertical-align: middle;\n",
       "    }\n",
       "\n",
       "    .dataframe tbody tr th {\n",
       "        vertical-align: top;\n",
       "    }\n",
       "\n",
       "    .dataframe thead th {\n",
       "        text-align: right;\n",
       "    }\n",
       "</style>\n",
       "<table border=\"1\" class=\"dataframe\">\n",
       "  <thead>\n",
       "    <tr style=\"text-align: right;\">\n",
       "      <th></th>\n",
       "      <th>32</th>\n",
       "      <th>33</th>\n",
       "      <th>37</th>\n",
       "      <th>56</th>\n",
       "      <th>59</th>\n",
       "      <th>61</th>\n",
       "      <th>135</th>\n",
       "      <th>140</th>\n",
       "      <th>144</th>\n",
       "      <th>209</th>\n",
       "      <th>...</th>\n",
       "      <th>580275015</th>\n",
       "      <th>580677105</th>\n",
       "      <th>585725013</th>\n",
       "      <th>585818227</th>\n",
       "      <th>587939460</th>\n",
       "      <th>1357960095</th>\n",
       "      <th>1357964016</th>\n",
       "      <th>1358164521</th>\n",
       "      <th>1358200299</th>\n",
       "      <th>1358569300</th>\n",
       "    </tr>\n",
       "  </thead>\n",
       "  <tbody>\n",
       "    <tr>\n",
       "      <th>3fd66200f964a52004e61ee3</th>\n",
       "      <td>1.0</td>\n",
       "      <td>1.0</td>\n",
       "      <td>1.0</td>\n",
       "      <td>1.0</td>\n",
       "      <td>0.0</td>\n",
       "      <td>1.0</td>\n",
       "      <td>1.0</td>\n",
       "      <td>1.0</td>\n",
       "      <td>0.0</td>\n",
       "      <td>0.0</td>\n",
       "      <td>...</td>\n",
       "      <td>0.0</td>\n",
       "      <td>0.0</td>\n",
       "      <td>0.0</td>\n",
       "      <td>0.0</td>\n",
       "      <td>0.0</td>\n",
       "      <td>0.0</td>\n",
       "      <td>0.0</td>\n",
       "      <td>0.0</td>\n",
       "      <td>0.0</td>\n",
       "      <td>1.0</td>\n",
       "    </tr>\n",
       "    <tr>\n",
       "      <th>3fd66200f964a52005e81ee3</th>\n",
       "      <td>1.0</td>\n",
       "      <td>1.0</td>\n",
       "      <td>1.0</td>\n",
       "      <td>1.0</td>\n",
       "      <td>1.0</td>\n",
       "      <td>1.0</td>\n",
       "      <td>1.0</td>\n",
       "      <td>0.0</td>\n",
       "      <td>0.0</td>\n",
       "      <td>1.0</td>\n",
       "      <td>...</td>\n",
       "      <td>1.0</td>\n",
       "      <td>0.0</td>\n",
       "      <td>1.0</td>\n",
       "      <td>0.0</td>\n",
       "      <td>0.0</td>\n",
       "      <td>0.0</td>\n",
       "      <td>1.0</td>\n",
       "      <td>1.0</td>\n",
       "      <td>1.0</td>\n",
       "      <td>0.0</td>\n",
       "    </tr>\n",
       "    <tr>\n",
       "      <th>3fd66200f964a52006ea1ee3</th>\n",
       "      <td>1.0</td>\n",
       "      <td>1.0</td>\n",
       "      <td>1.0</td>\n",
       "      <td>1.0</td>\n",
       "      <td>1.0</td>\n",
       "      <td>1.0</td>\n",
       "      <td>1.0</td>\n",
       "      <td>0.0</td>\n",
       "      <td>0.0</td>\n",
       "      <td>1.0</td>\n",
       "      <td>...</td>\n",
       "      <td>1.0</td>\n",
       "      <td>0.0</td>\n",
       "      <td>1.0</td>\n",
       "      <td>0.0</td>\n",
       "      <td>0.0</td>\n",
       "      <td>0.0</td>\n",
       "      <td>1.0</td>\n",
       "      <td>1.0</td>\n",
       "      <td>1.0</td>\n",
       "      <td>0.0</td>\n",
       "    </tr>\n",
       "    <tr>\n",
       "      <th>3fd66200f964a52008e71ee3</th>\n",
       "      <td>0.0</td>\n",
       "      <td>0.0</td>\n",
       "      <td>1.0</td>\n",
       "      <td>0.0</td>\n",
       "      <td>0.0</td>\n",
       "      <td>0.0</td>\n",
       "      <td>0.0</td>\n",
       "      <td>0.0</td>\n",
       "      <td>1.0</td>\n",
       "      <td>0.0</td>\n",
       "      <td>...</td>\n",
       "      <td>0.0</td>\n",
       "      <td>0.0</td>\n",
       "      <td>0.0</td>\n",
       "      <td>0.0</td>\n",
       "      <td>1.0</td>\n",
       "      <td>0.0</td>\n",
       "      <td>0.0</td>\n",
       "      <td>0.0</td>\n",
       "      <td>0.0</td>\n",
       "      <td>0.0</td>\n",
       "    </tr>\n",
       "    <tr>\n",
       "      <th>3fd66200f964a5200eea1ee3</th>\n",
       "      <td>1.0</td>\n",
       "      <td>1.0</td>\n",
       "      <td>1.0</td>\n",
       "      <td>0.0</td>\n",
       "      <td>0.0</td>\n",
       "      <td>1.0</td>\n",
       "      <td>1.0</td>\n",
       "      <td>0.0</td>\n",
       "      <td>0.0</td>\n",
       "      <td>0.0</td>\n",
       "      <td>...</td>\n",
       "      <td>0.0</td>\n",
       "      <td>1.0</td>\n",
       "      <td>0.0</td>\n",
       "      <td>1.0</td>\n",
       "      <td>0.0</td>\n",
       "      <td>1.0</td>\n",
       "      <td>0.0</td>\n",
       "      <td>0.0</td>\n",
       "      <td>0.0</td>\n",
       "      <td>0.0</td>\n",
       "    </tr>\n",
       "  </tbody>\n",
       "</table>\n",
       "<p>5 rows × 7779 columns</p>\n",
       "</div>"
      ],
      "text/plain": [
       "                          32          33          37          56          \\\n",
       "3fd66200f964a52004e61ee3         1.0         1.0         1.0         1.0   \n",
       "3fd66200f964a52005e81ee3         1.0         1.0         1.0         1.0   \n",
       "3fd66200f964a52006ea1ee3         1.0         1.0         1.0         1.0   \n",
       "3fd66200f964a52008e71ee3         0.0         0.0         1.0         0.0   \n",
       "3fd66200f964a5200eea1ee3         1.0         1.0         1.0         0.0   \n",
       "\n",
       "                          59          61          135         140         \\\n",
       "3fd66200f964a52004e61ee3         0.0         1.0         1.0         1.0   \n",
       "3fd66200f964a52005e81ee3         1.0         1.0         1.0         0.0   \n",
       "3fd66200f964a52006ea1ee3         1.0         1.0         1.0         0.0   \n",
       "3fd66200f964a52008e71ee3         0.0         0.0         0.0         0.0   \n",
       "3fd66200f964a5200eea1ee3         0.0         1.0         1.0         0.0   \n",
       "\n",
       "                          144         209         ...  580275015   580677105   \\\n",
       "3fd66200f964a52004e61ee3         0.0         0.0  ...         0.0         0.0   \n",
       "3fd66200f964a52005e81ee3         0.0         1.0  ...         1.0         0.0   \n",
       "3fd66200f964a52006ea1ee3         0.0         1.0  ...         1.0         0.0   \n",
       "3fd66200f964a52008e71ee3         1.0         0.0  ...         0.0         0.0   \n",
       "3fd66200f964a5200eea1ee3         0.0         0.0  ...         0.0         1.0   \n",
       "\n",
       "                          585725013   585818227   587939460   1357960095  \\\n",
       "3fd66200f964a52004e61ee3         0.0         0.0         0.0         0.0   \n",
       "3fd66200f964a52005e81ee3         1.0         0.0         0.0         0.0   \n",
       "3fd66200f964a52006ea1ee3         1.0         0.0         0.0         0.0   \n",
       "3fd66200f964a52008e71ee3         0.0         0.0         1.0         0.0   \n",
       "3fd66200f964a5200eea1ee3         0.0         1.0         0.0         1.0   \n",
       "\n",
       "                          1357964016  1358164521  1358200299  1358569300  \n",
       "3fd66200f964a52004e61ee3         0.0         0.0         0.0         1.0  \n",
       "3fd66200f964a52005e81ee3         1.0         1.0         1.0         0.0  \n",
       "3fd66200f964a52006ea1ee3         1.0         1.0         1.0         0.0  \n",
       "3fd66200f964a52008e71ee3         0.0         0.0         0.0         0.0  \n",
       "3fd66200f964a5200eea1ee3         0.0         0.0         0.0         0.0  \n",
       "\n",
       "[5 rows x 7779 columns]"
      ]
     },
     "execution_count": 14,
     "metadata": {},
     "output_type": "execute_result"
    }
   ],
   "source": [
    "df_scores_r=df_scores_mtx.copy()\n",
    "df_scores_r[df_scores_r.notna()]=1\n",
    "df_scores_r.fillna(0,inplace=True)\n",
    "df_scores_r.head()"
   ]
  },
  {
   "cell_type": "code",
   "execution_count": 15,
   "metadata": {},
   "outputs": [
    {
     "data": {
      "text/plain": [
       "(3428, 7779)"
      ]
     },
     "execution_count": 15,
     "metadata": {},
     "output_type": "execute_result"
    }
   ],
   "source": [
    "Y=df_scores_mtx.values\n",
    "Y.shape"
   ]
  },
  {
   "cell_type": "code",
   "execution_count": 16,
   "metadata": {},
   "outputs": [
    {
     "data": {
      "text/plain": [
       "(3428, 7779)"
      ]
     },
     "execution_count": 16,
     "metadata": {},
     "output_type": "execute_result"
    }
   ],
   "source": [
    "R=df_scores_r.values\n",
    "R.shape"
   ]
  },
  {
   "cell_type": "markdown",
   "metadata": {},
   "source": [
    "### 3.2.7 Set parameter"
   ]
  },
  {
   "cell_type": "code",
   "execution_count": 17,
   "metadata": {},
   "outputs": [],
   "source": [
    "Ynorm, Ymean = normalizeRatings(Y, R)"
   ]
  },
  {
   "cell_type": "code",
   "execution_count": 18,
   "metadata": {},
   "outputs": [
    {
     "name": "stdout",
     "output_type": "stream",
     "text": [
      "(3428, 20) (7779, 20) (3428, 7779) (3428, 7779) [0.5497481  0.30493948 0.90632723 ... 0.94173674 0.06790213 0.72406927]\n"
     ]
    }
   ],
   "source": [
    "num_users = Y.shape[1]\n",
    "num_venues = Y.shape[0]\n",
    "num_features = 20\n",
    "X = np.random.rand(num_venues, num_features)\n",
    "Theta = np.random.rand(num_users, num_features)\n",
    "initial_parameters = np.hstack((X.flatten(),Theta.flatten()))\n",
    "print(X.shape,Theta.shape,Ynorm.shape,R.shape,initial_parameters)"
   ]
  },
  {
   "cell_type": "markdown",
   "metadata": {},
   "source": [
    "### 3.2.8. Training"
   ]
  },
  {
   "cell_type": "code",
   "execution_count": 76,
   "metadata": {},
   "outputs": [
    {
     "name": "stdout",
     "output_type": "stream",
     "text": [
      "198668821.4611661\n",
      "194845693.46312618\n",
      "180099722.69334078\n",
      "129299972.32883376\n",
      "27507140.918106288\n",
      "7229234.574354617\n",
      "2124817.6766641904\n",
      "1247694.6980264345\n",
      "877492.3588169599\n",
      "678012.4145431644\n",
      "581771.1516751642\n",
      "399765.9328824308\n",
      "364665.8761711901\n",
      "313989.4581566013\n",
      "296677.25675956684\n",
      "262545.53636203357\n",
      "256389.29860382227\n",
      "254043.53515526387\n",
      "251652.22523954744\n",
      "245994.96050508632\n",
      "240627.95753526807\n",
      "234979.8014340569\n",
      "222616.56931056472\n",
      "212886.46935505111\n",
      "194259.81385964534\n",
      "177240.49476111017\n",
      "169781.00952539907\n",
      "164728.28573891148\n",
      "164067.21611894836\n",
      "160818.0636963818\n",
      "154871.35528719897\n",
      "146331.0667103684\n",
      "144416.45209268865\n",
      "141746.85946915718\n",
      "135983.54315187654\n",
      "132564.266573328\n",
      "123849.89404807583\n",
      "116598.02499876189\n",
      "113897.23557954532\n",
      "110861.88265392894\n",
      "108332.80212848043\n",
      "105147.88651336462\n",
      "102015.22162063415\n",
      "98180.79910350185\n",
      "95041.95761479787\n",
      "91934.72197791864\n",
      "90882.87077878765\n",
      "89459.56034085198\n",
      "88511.41098379833\n",
      "86671.98329908132\n",
      "84581.52176031403\n",
      "82772.16099034727\n",
      "81356.13835420806\n",
      "79815.79226055031\n",
      "78976.99385531887\n",
      "77960.15895908295\n",
      "76998.38251707208\n",
      "76210.07919404299\n",
      "75113.51308344115\n",
      "74097.38311307704\n",
      "73079.03725844572\n",
      "71877.69681872267\n",
      "71101.41399903566\n",
      "69889.35349966647\n",
      "68864.45874233224\n",
      "67912.49629626585\n",
      "67282.74052278213\n",
      "66593.17433425007\n",
      "65597.56170485873\n",
      "64720.644979931916\n",
      "63892.33872357989\n",
      "63111.58793399925\n",
      "62571.281007785816\n",
      "61939.751550263725\n",
      "61205.367299463396\n",
      "60330.0412524596\n",
      "59303.155435501074\n",
      "58641.88450721899\n",
      "58334.10736484511\n",
      "57564.12353708368\n",
      "56832.98498154044\n",
      "56007.046696613965\n",
      "55314.016444406974\n",
      "54981.8955693375\n",
      "54387.84071301918\n",
      "53748.06632437844\n",
      "53224.2839940268\n",
      "52932.07073108206\n",
      "52752.1432142867\n",
      "52475.49384796627\n",
      "52030.52335296134\n",
      "51611.93951759611\n",
      "51392.81811413754\n",
      "51277.23639534486\n",
      "51128.09280333054\n",
      "50867.26599887608\n",
      "50921.56573114465\n",
      "50737.720561042624\n",
      "50546.84001603305\n",
      "50439.073064599586\n",
      "50279.712743736614\n",
      "50139.4285043468\n",
      "49994.56974840749\n",
      "49883.38991221637\n"
     ]
    },
    {
     "data": {
      "text/plain": [
       "      fun: 49883.38991221637\n",
       " hess_inv: <224140x224140 LbfgsInvHessProduct with dtype=float64>\n",
       "      jac: array([-0.17590346, -0.69088434, -0.77141259, ..., -1.32746167,\n",
       "       -1.50464096, -1.62798696])\n",
       "  message: b'STOP: TOTAL NO. of ITERATIONS REACHED LIMIT'\n",
       "     nfev: 104\n",
       "      nit: 100\n",
       "   status: 1\n",
       "  success: False\n",
       "        x: array([-0.09141954, -0.32857923, -0.01094323, ...,  0.09701348,\n",
       "        0.2596123 ,  0.05640992])"
      ]
     },
     "execution_count": 76,
     "metadata": {},
     "output_type": "execute_result"
    }
   ],
   "source": [
    "lamda = 0\n",
    "res = spo.minimize(fun=cofiCostFunc, x0=initial_parameters,\n",
    "                      args=(Ynorm, R, num_users, num_venues, num_features, lamda),\n",
    "                      method='L-BFGS-B',jac=True, options={'maxiter': 100})\n",
    "X = res.x[0:num_venues*num_features].reshape(num_venues, num_features)\n",
    "Theta = res.x[num_venues*num_features:].reshape(num_users, num_features)\n",
    "res"
   ]
  },
  {
   "cell_type": "code",
   "execution_count": 19,
   "metadata": {},
   "outputs": [
    {
     "data": {
      "text/plain": [
       "Text(0.5, 0, 'Num of features')"
      ]
     },
     "execution_count": 19,
     "metadata": {},
     "output_type": "execute_result"
    },
    {
     "data": {
      "image/png": "[encoded data removed]",
      "text/plain": [
       "<Figure size 432x288 with 1 Axes>"
      ]
     },
     "metadata": {
      "needs_background": "light"
     },
     "output_type": "display_data"
    }
   ],
   "source": [
    "\n",
    "ar=np.array([[7,74735],[9,65484],[10,61751],[11,59981],[12,58357],[13,55425],[14,53415],[15,52518],[16,49976],[20,49883]])\n",
    "df_trains=pd.DataFrame(ar[:,1],index=ar[:,0],columns=['num of features'])\n",
    "plt.figure()\n",
    "plt.plot(df_trains)\n",
    "plt.ylabel('Cost')\n",
    "plt.xlabel('Num of features')\n",
    "#plt.show()"
   ]
  },
  {
   "cell_type": "code",
   "execution_count": 77,
   "metadata": {},
   "outputs": [],
   "source": [
    "np.savetxt('./Theta.txt',Theta)\n",
    "np.savetxt('./X.txt',X)\n",
    "for filename in ['./Theta.txt','./X.txt']:\n",
    "    cos.upload_file(Filename=filename, Bucket=credentials['BUCKET'], Key=filename )"
   ]
  },
  {
   "cell_type": "code",
   "execution_count": 20,
   "metadata": {},
   "outputs": [],
   "source": [
    "for filename in ['./Theta.txt','./X.txt']:\n",
    "    cos.download_file(Bucket=credentials['BUCKET'],Key=filename,Filename=filename)\n",
    "Theta=np.loadtxt('./Theta.txt')\n",
    "X=np.loadtxt('./X.txt')"
   ]
  },
  {
   "cell_type": "markdown",
   "metadata": {},
   "source": [
    "### 3.2.9. Predict"
   ]
  },
  {
   "cell_type": "code",
   "execution_count": 21,
   "metadata": {},
   "outputs": [],
   "source": [
    "p = X @ Theta.T\n",
    "train_pred = p + Ymean"
   ]
  },
  {
   "cell_type": "markdown",
   "metadata": {},
   "source": [
    "### 3.2.10. Predicted Restaurant and users data frame"
   ]
  },
  {
   "cell_type": "code",
   "execution_count": 22,
   "metadata": {},
   "outputs": [
    {
     "data": {
      "text/html": [
       "<div>\n",
       "<style scoped>\n",
       "    .dataframe tbody tr th:only-of-type {\n",
       "        vertical-align: middle;\n",
       "    }\n",
       "\n",
       "    .dataframe tbody tr th {\n",
       "        vertical-align: top;\n",
       "    }\n",
       "\n",
       "    .dataframe thead th {\n",
       "        text-align: right;\n",
       "    }\n",
       "</style>\n",
       "<table border=\"1\" class=\"dataframe\">\n",
       "  <thead>\n",
       "    <tr style=\"text-align: right;\">\n",
       "      <th></th>\n",
       "      <th>32</th>\n",
       "      <th>33</th>\n",
       "      <th>37</th>\n",
       "      <th>56</th>\n",
       "      <th>59</th>\n",
       "      <th>61</th>\n",
       "      <th>135</th>\n",
       "      <th>140</th>\n",
       "      <th>144</th>\n",
       "      <th>209</th>\n",
       "      <th>...</th>\n",
       "      <th>580677105</th>\n",
       "      <th>585725013</th>\n",
       "      <th>585818227</th>\n",
       "      <th>587939460</th>\n",
       "      <th>1357960095</th>\n",
       "      <th>1357964016</th>\n",
       "      <th>1358164521</th>\n",
       "      <th>1358200299</th>\n",
       "      <th>1358569300</th>\n",
       "      <th>mean</th>\n",
       "    </tr>\n",
       "  </thead>\n",
       "  <tbody>\n",
       "    <tr>\n",
       "      <th>5ba682d616ef670039f6d605</th>\n",
       "      <td>2.014082</td>\n",
       "      <td>1.987447</td>\n",
       "      <td>2.024548</td>\n",
       "      <td>2.009573</td>\n",
       "      <td>1.999409</td>\n",
       "      <td>1.989089</td>\n",
       "      <td>2.010838</td>\n",
       "      <td>2.034907</td>\n",
       "      <td>2.026080</td>\n",
       "      <td>1.990084</td>\n",
       "      <td>...</td>\n",
       "      <td>2.033855</td>\n",
       "      <td>1.999624</td>\n",
       "      <td>2.024415</td>\n",
       "      <td>1.984714</td>\n",
       "      <td>2.021710</td>\n",
       "      <td>2.000230</td>\n",
       "      <td>2.005405</td>\n",
       "      <td>2.003788</td>\n",
       "      <td>2.058474</td>\n",
       "      <td>2.011990</td>\n",
       "    </tr>\n",
       "    <tr>\n",
       "      <th>5c13bf838afbe0002de55061</th>\n",
       "      <td>1.999777</td>\n",
       "      <td>2.009438</td>\n",
       "      <td>2.003895</td>\n",
       "      <td>2.006324</td>\n",
       "      <td>1.996612</td>\n",
       "      <td>2.007620</td>\n",
       "      <td>2.010113</td>\n",
       "      <td>2.024210</td>\n",
       "      <td>2.015391</td>\n",
       "      <td>2.005031</td>\n",
       "      <td>...</td>\n",
       "      <td>2.008623</td>\n",
       "      <td>2.018575</td>\n",
       "      <td>2.020279</td>\n",
       "      <td>2.028533</td>\n",
       "      <td>2.009758</td>\n",
       "      <td>1.997292</td>\n",
       "      <td>2.000425</td>\n",
       "      <td>2.011011</td>\n",
       "      <td>2.025610</td>\n",
       "      <td>2.010381</td>\n",
       "    </tr>\n",
       "    <tr>\n",
       "      <th>4cb218c7ef1b37041ca24800</th>\n",
       "      <td>2.005399</td>\n",
       "      <td>1.997427</td>\n",
       "      <td>2.002186</td>\n",
       "      <td>2.008171</td>\n",
       "      <td>2.001285</td>\n",
       "      <td>1.998127</td>\n",
       "      <td>2.001735</td>\n",
       "      <td>2.011519</td>\n",
       "      <td>2.026425</td>\n",
       "      <td>2.008373</td>\n",
       "      <td>...</td>\n",
       "      <td>2.023548</td>\n",
       "      <td>2.004637</td>\n",
       "      <td>2.030535</td>\n",
       "      <td>2.008385</td>\n",
       "      <td>2.036986</td>\n",
       "      <td>1.998659</td>\n",
       "      <td>2.006321</td>\n",
       "      <td>2.005037</td>\n",
       "      <td>2.017751</td>\n",
       "      <td>2.008940</td>\n",
       "    </tr>\n",
       "    <tr>\n",
       "      <th>57fa6c67498e23e3cf1861f4</th>\n",
       "      <td>1.991532</td>\n",
       "      <td>1.997121</td>\n",
       "      <td>1.999090</td>\n",
       "      <td>2.003478</td>\n",
       "      <td>1.999316</td>\n",
       "      <td>1.997626</td>\n",
       "      <td>2.005188</td>\n",
       "      <td>2.018935</td>\n",
       "      <td>2.029585</td>\n",
       "      <td>2.011068</td>\n",
       "      <td>...</td>\n",
       "      <td>2.017037</td>\n",
       "      <td>2.005195</td>\n",
       "      <td>2.019939</td>\n",
       "      <td>2.026729</td>\n",
       "      <td>2.025415</td>\n",
       "      <td>2.004183</td>\n",
       "      <td>2.000474</td>\n",
       "      <td>2.000769</td>\n",
       "      <td>2.038632</td>\n",
       "      <td>2.008862</td>\n",
       "    </tr>\n",
       "    <tr>\n",
       "      <th>5615a472498ed90cc0623b3c</th>\n",
       "      <td>2.002414</td>\n",
       "      <td>2.006484</td>\n",
       "      <td>2.006006</td>\n",
       "      <td>2.005894</td>\n",
       "      <td>2.005643</td>\n",
       "      <td>2.005005</td>\n",
       "      <td>2.002959</td>\n",
       "      <td>2.022838</td>\n",
       "      <td>2.021965</td>\n",
       "      <td>2.003634</td>\n",
       "      <td>...</td>\n",
       "      <td>2.018915</td>\n",
       "      <td>2.005916</td>\n",
       "      <td>2.014568</td>\n",
       "      <td>2.020220</td>\n",
       "      <td>2.019994</td>\n",
       "      <td>2.003436</td>\n",
       "      <td>2.006043</td>\n",
       "      <td>2.003432</td>\n",
       "      <td>2.034187</td>\n",
       "      <td>2.007986</td>\n",
       "    </tr>\n",
       "    <tr>\n",
       "      <th>...</th>\n",
       "      <td>...</td>\n",
       "      <td>...</td>\n",
       "      <td>...</td>\n",
       "      <td>...</td>\n",
       "      <td>...</td>\n",
       "      <td>...</td>\n",
       "      <td>...</td>\n",
       "      <td>...</td>\n",
       "      <td>...</td>\n",
       "      <td>...</td>\n",
       "      <td>...</td>\n",
       "      <td>...</td>\n",
       "      <td>...</td>\n",
       "      <td>...</td>\n",
       "      <td>...</td>\n",
       "      <td>...</td>\n",
       "      <td>...</td>\n",
       "      <td>...</td>\n",
       "      <td>...</td>\n",
       "      <td>...</td>\n",
       "      <td>...</td>\n",
       "    </tr>\n",
       "    <tr>\n",
       "      <th>5adcbd038173cb433ff5350d</th>\n",
       "      <td>1.380004</td>\n",
       "      <td>0.906656</td>\n",
       "      <td>1.163593</td>\n",
       "      <td>1.013677</td>\n",
       "      <td>1.153813</td>\n",
       "      <td>1.260904</td>\n",
       "      <td>0.658151</td>\n",
       "      <td>0.948888</td>\n",
       "      <td>0.349389</td>\n",
       "      <td>1.262704</td>\n",
       "      <td>...</td>\n",
       "      <td>1.294729</td>\n",
       "      <td>0.889481</td>\n",
       "      <td>1.391693</td>\n",
       "      <td>1.115655</td>\n",
       "      <td>1.340609</td>\n",
       "      <td>1.206501</td>\n",
       "      <td>1.009791</td>\n",
       "      <td>0.998708</td>\n",
       "      <td>1.162758</td>\n",
       "      <td>1.004781</td>\n",
       "    </tr>\n",
       "    <tr>\n",
       "      <th>52f66aa6498e08f2b069ab80</th>\n",
       "      <td>1.010813</td>\n",
       "      <td>1.001961</td>\n",
       "      <td>0.999621</td>\n",
       "      <td>1.014716</td>\n",
       "      <td>1.026965</td>\n",
       "      <td>1.003386</td>\n",
       "      <td>0.999194</td>\n",
       "      <td>1.000771</td>\n",
       "      <td>0.972044</td>\n",
       "      <td>1.015611</td>\n",
       "      <td>...</td>\n",
       "      <td>1.005195</td>\n",
       "      <td>1.014636</td>\n",
       "      <td>1.002966</td>\n",
       "      <td>1.012147</td>\n",
       "      <td>1.003027</td>\n",
       "      <td>1.019795</td>\n",
       "      <td>1.018378</td>\n",
       "      <td>0.993541</td>\n",
       "      <td>1.029758</td>\n",
       "      <td>1.003949</td>\n",
       "    </tr>\n",
       "    <tr>\n",
       "      <th>596fb23c31ac6c49a7f6b6c4</th>\n",
       "      <td>1.001377</td>\n",
       "      <td>0.998714</td>\n",
       "      <td>1.005378</td>\n",
       "      <td>1.002443</td>\n",
       "      <td>1.010739</td>\n",
       "      <td>1.001027</td>\n",
       "      <td>1.003945</td>\n",
       "      <td>1.005788</td>\n",
       "      <td>1.000046</td>\n",
       "      <td>1.001039</td>\n",
       "      <td>...</td>\n",
       "      <td>1.012676</td>\n",
       "      <td>1.003797</td>\n",
       "      <td>1.008281</td>\n",
       "      <td>0.996997</td>\n",
       "      <td>1.011945</td>\n",
       "      <td>1.004546</td>\n",
       "      <td>1.006479</td>\n",
       "      <td>0.999801</td>\n",
       "      <td>1.009250</td>\n",
       "      <td>1.003059</td>\n",
       "    </tr>\n",
       "    <tr>\n",
       "      <th>4cddd9dadb125481c4f22cce</th>\n",
       "      <td>1.115300</td>\n",
       "      <td>0.622533</td>\n",
       "      <td>1.091012</td>\n",
       "      <td>0.939870</td>\n",
       "      <td>1.112741</td>\n",
       "      <td>1.031712</td>\n",
       "      <td>0.704897</td>\n",
       "      <td>0.963842</td>\n",
       "      <td>0.837573</td>\n",
       "      <td>1.217481</td>\n",
       "      <td>...</td>\n",
       "      <td>1.323762</td>\n",
       "      <td>0.856007</td>\n",
       "      <td>1.312008</td>\n",
       "      <td>1.331637</td>\n",
       "      <td>1.243226</td>\n",
       "      <td>1.091280</td>\n",
       "      <td>0.961142</td>\n",
       "      <td>0.952853</td>\n",
       "      <td>1.218237</td>\n",
       "      <td>1.002371</td>\n",
       "    </tr>\n",
       "    <tr>\n",
       "      <th>590e07a81bc704026f2e9400</th>\n",
       "      <td>1.142625</td>\n",
       "      <td>0.713616</td>\n",
       "      <td>1.119190</td>\n",
       "      <td>0.901105</td>\n",
       "      <td>0.976738</td>\n",
       "      <td>1.053903</td>\n",
       "      <td>0.756639</td>\n",
       "      <td>0.857028</td>\n",
       "      <td>0.765521</td>\n",
       "      <td>1.084026</td>\n",
       "      <td>...</td>\n",
       "      <td>1.264905</td>\n",
       "      <td>0.850220</td>\n",
       "      <td>1.262158</td>\n",
       "      <td>1.043311</td>\n",
       "      <td>1.293802</td>\n",
       "      <td>0.972581</td>\n",
       "      <td>0.923523</td>\n",
       "      <td>0.898961</td>\n",
       "      <td>0.897116</td>\n",
       "      <td>0.942235</td>\n",
       "    </tr>\n",
       "  </tbody>\n",
       "</table>\n",
       "<p>3428 rows × 7780 columns</p>\n",
       "</div>"
      ],
      "text/plain": [
       "                                32        33        37        56        59  \\\n",
       "5ba682d616ef670039f6d605  2.014082  1.987447  2.024548  2.009573  1.999409   \n",
       "5c13bf838afbe0002de55061  1.999777  2.009438  2.003895  2.006324  1.996612   \n",
       "4cb218c7ef1b37041ca24800  2.005399  1.997427  2.002186  2.008171  2.001285   \n",
       "57fa6c67498e23e3cf1861f4  1.991532  1.997121  1.999090  2.003478  1.999316   \n",
       "5615a472498ed90cc0623b3c  2.002414  2.006484  2.006006  2.005894  2.005643   \n",
       "...                            ...       ...       ...       ...       ...   \n",
       "5adcbd038173cb433ff5350d  1.380004  0.906656  1.163593  1.013677  1.153813   \n",
       "52f66aa6498e08f2b069ab80  1.010813  1.001961  0.999621  1.014716  1.026965   \n",
       "596fb23c31ac6c49a7f6b6c4  1.001377  0.998714  1.005378  1.002443  1.010739   \n",
       "4cddd9dadb125481c4f22cce  1.115300  0.622533  1.091012  0.939870  1.112741   \n",
       "590e07a81bc704026f2e9400  1.142625  0.713616  1.119190  0.901105  0.976738   \n",
       "\n",
       "                                61       135       140       144       209  \\\n",
       "5ba682d616ef670039f6d605  1.989089  2.010838  2.034907  2.026080  1.990084   \n",
       "5c13bf838afbe0002de55061  2.007620  2.010113  2.024210  2.015391  2.005031   \n",
       "4cb218c7ef1b37041ca24800  1.998127  2.001735  2.011519  2.026425  2.008373   \n",
       "57fa6c67498e23e3cf1861f4  1.997626  2.005188  2.018935  2.029585  2.011068   \n",
       "5615a472498ed90cc0623b3c  2.005005  2.002959  2.022838  2.021965  2.003634   \n",
       "...                            ...       ...       ...       ...       ...   \n",
       "5adcbd038173cb433ff5350d  1.260904  0.658151  0.948888  0.349389  1.262704   \n",
       "52f66aa6498e08f2b069ab80  1.003386  0.999194  1.000771  0.972044  1.015611   \n",
       "596fb23c31ac6c49a7f6b6c4  1.001027  1.003945  1.005788  1.000046  1.001039   \n",
       "4cddd9dadb125481c4f22cce  1.031712  0.704897  0.963842  0.837573  1.217481   \n",
       "590e07a81bc704026f2e9400  1.053903  0.756639  0.857028  0.765521  1.084026   \n",
       "\n",
       "                          ...  580677105  585725013  585818227  587939460  \\\n",
       "5ba682d616ef670039f6d605  ...   2.033855   1.999624   2.024415   1.984714   \n",
       "5c13bf838afbe0002de55061  ...   2.008623   2.018575   2.020279   2.028533   \n",
       "4cb218c7ef1b37041ca24800  ...   2.023548   2.004637   2.030535   2.008385   \n",
       "57fa6c67498e23e3cf1861f4  ...   2.017037   2.005195   2.019939   2.026729   \n",
       "5615a472498ed90cc0623b3c  ...   2.018915   2.005916   2.014568   2.020220   \n",
       "...                       ...        ...        ...        ...        ...   \n",
       "5adcbd038173cb433ff5350d  ...   1.294729   0.889481   1.391693   1.115655   \n",
       "52f66aa6498e08f2b069ab80  ...   1.005195   1.014636   1.002966   1.012147   \n",
       "596fb23c31ac6c49a7f6b6c4  ...   1.012676   1.003797   1.008281   0.996997   \n",
       "4cddd9dadb125481c4f22cce  ...   1.323762   0.856007   1.312008   1.331637   \n",
       "590e07a81bc704026f2e9400  ...   1.264905   0.850220   1.262158   1.043311   \n",
       "\n",
       "                          1357960095  1357964016  1358164521  1358200299  \\\n",
       "5ba682d616ef670039f6d605    2.021710    2.000230    2.005405    2.003788   \n",
       "5c13bf838afbe0002de55061    2.009758    1.997292    2.000425    2.011011   \n",
       "4cb218c7ef1b37041ca24800    2.036986    1.998659    2.006321    2.005037   \n",
       "57fa6c67498e23e3cf1861f4    2.025415    2.004183    2.000474    2.000769   \n",
       "5615a472498ed90cc0623b3c    2.019994    2.003436    2.006043    2.003432   \n",
       "...                              ...         ...         ...         ...   \n",
       "5adcbd038173cb433ff5350d    1.340609    1.206501    1.009791    0.998708   \n",
       "52f66aa6498e08f2b069ab80    1.003027    1.019795    1.018378    0.993541   \n",
       "596fb23c31ac6c49a7f6b6c4    1.011945    1.004546    1.006479    0.999801   \n",
       "4cddd9dadb125481c4f22cce    1.243226    1.091280    0.961142    0.952853   \n",
       "590e07a81bc704026f2e9400    1.293802    0.972581    0.923523    0.898961   \n",
       "\n",
       "                          1358569300      mean  \n",
       "5ba682d616ef670039f6d605    2.058474  2.011990  \n",
       "5c13bf838afbe0002de55061    2.025610  2.010381  \n",
       "4cb218c7ef1b37041ca24800    2.017751  2.008940  \n",
       "57fa6c67498e23e3cf1861f4    2.038632  2.008862  \n",
       "5615a472498ed90cc0623b3c    2.034187  2.007986  \n",
       "...                              ...       ...  \n",
       "5adcbd038173cb433ff5350d    1.162758  1.004781  \n",
       "52f66aa6498e08f2b069ab80    1.029758  1.003949  \n",
       "596fb23c31ac6c49a7f6b6c4    1.009250  1.003059  \n",
       "4cddd9dadb125481c4f22cce    1.218237  1.002371  \n",
       "590e07a81bc704026f2e9400    0.897116  0.942235  \n",
       "\n",
       "[3428 rows x 7780 columns]"
      ]
     },
     "execution_count": 22,
     "metadata": {},
     "output_type": "execute_result"
    }
   ],
   "source": [
    "df_pred_scores=pd.DataFrame(train_pred,index=df_scores_r.index[0:Y.shape[0]].values,columns=df_scores_mtx.columns)\n",
    "df_pred_scores['mean']=df_pred_scores.mean(axis=1)\n",
    "df_pred_scores.sort_values('mean',ascending=False)"
   ]
  },
  {
   "cell_type": "markdown",
   "metadata": {},
   "source": [
    "# 4. Result"
   ]
  },
  {
   "cell_type": "markdown",
   "metadata": {},
   "source": [
    "## 4.1. Look up sample user's score"
   ]
  },
  {
   "cell_type": "markdown",
   "metadata": {},
   "source": [
    "### 4.1.1. Sample user's top n predicted food venues."
   ]
  },
  {
   "cell_type": "code",
   "execution_count": 24,
   "metadata": {},
   "outputs": [
    {
     "data": {
      "text/html": [
       "<div>\n",
       "<style scoped>\n",
       "    .dataframe tbody tr th:only-of-type {\n",
       "        vertical-align: middle;\n",
       "    }\n",
       "\n",
       "    .dataframe tbody tr th {\n",
       "        vertical-align: top;\n",
       "    }\n",
       "\n",
       "    .dataframe thead th {\n",
       "        text-align: right;\n",
       "    }\n",
       "</style>\n",
       "<table border=\"1\" class=\"dataframe\">\n",
       "  <thead>\n",
       "    <tr style=\"text-align: right;\">\n",
       "      <th></th>\n",
       "      <th>venue_name</th>\n",
       "      <th>category1_name</th>\n",
       "      <th>category2_name</th>\n",
       "      <th>category3_name</th>\n",
       "    </tr>\n",
       "  </thead>\n",
       "  <tbody>\n",
       "    <tr>\n",
       "      <th>276</th>\n",
       "      <td>Light Horse Tavern</td>\n",
       "      <td>American Restaurant</td>\n",
       "      <td>New American Restaurant</td>\n",
       "      <td>0</td>\n",
       "    </tr>\n",
       "    <tr>\n",
       "      <th>608</th>\n",
       "      <td>Crown Shy</td>\n",
       "      <td>Restaurant</td>\n",
       "      <td>NaN</td>\n",
       "      <td>0</td>\n",
       "    </tr>\n",
       "    <tr>\n",
       "      <th>612</th>\n",
       "      <td>Pera Soho</td>\n",
       "      <td>Restaurant</td>\n",
       "      <td>NaN</td>\n",
       "      <td>0</td>\n",
       "    </tr>\n",
       "    <tr>\n",
       "      <th>616</th>\n",
       "      <td>Andy's Teriyaki &amp; Taco</td>\n",
       "      <td>Restaurant</td>\n",
       "      <td>NaN</td>\n",
       "      <td>0</td>\n",
       "    </tr>\n",
       "    <tr>\n",
       "      <th>1796</th>\n",
       "      <td>yakitori tatsu</td>\n",
       "      <td>Food Stand</td>\n",
       "      <td>NaN</td>\n",
       "      <td>0</td>\n",
       "    </tr>\n",
       "    <tr>\n",
       "      <th>1883</th>\n",
       "      <td>Simit Sarayı</td>\n",
       "      <td>Turkish Restaurant</td>\n",
       "      <td>Borek Place</td>\n",
       "      <td>0</td>\n",
       "    </tr>\n",
       "    <tr>\n",
       "      <th>2045</th>\n",
       "      <td>Aleppo Restaurant</td>\n",
       "      <td>Kebab Restaurant</td>\n",
       "      <td>NaN</td>\n",
       "      <td>0</td>\n",
       "    </tr>\n",
       "    <tr>\n",
       "      <th>2058</th>\n",
       "      <td>Doner Kebab NYC</td>\n",
       "      <td>Kebab Restaurant</td>\n",
       "      <td>NaN</td>\n",
       "      <td>0</td>\n",
       "    </tr>\n",
       "    <tr>\n",
       "      <th>2069</th>\n",
       "      <td>Sarita's Mac and Cheese Murray Hill</td>\n",
       "      <td>Mac &amp; Cheese Joint</td>\n",
       "      <td>NaN</td>\n",
       "      <td>0</td>\n",
       "    </tr>\n",
       "    <tr>\n",
       "      <th>2777</th>\n",
       "      <td>Pig and Khao</td>\n",
       "      <td>Asian Restaurant</td>\n",
       "      <td>Filipino Restaurant</td>\n",
       "      <td>NaN</td>\n",
       "    </tr>\n",
       "    <tr>\n",
       "      <th>2779</th>\n",
       "      <td>Ihawan</td>\n",
       "      <td>Asian Restaurant</td>\n",
       "      <td>Filipino Restaurant</td>\n",
       "      <td>NaN</td>\n",
       "    </tr>\n",
       "    <tr>\n",
       "      <th>2789</th>\n",
       "      <td>Tito Rad's Grill &amp; Restaurant</td>\n",
       "      <td>Asian Restaurant</td>\n",
       "      <td>Filipino Restaurant</td>\n",
       "      <td>NaN</td>\n",
       "    </tr>\n",
       "    <tr>\n",
       "      <th>2825</th>\n",
       "      <td>Ms. OHHO</td>\n",
       "      <td>Asian Restaurant</td>\n",
       "      <td>Korean Restaurant</td>\n",
       "      <td>Bossam/Jokbal Restaurant</td>\n",
       "    </tr>\n",
       "    <tr>\n",
       "      <th>2830</th>\n",
       "      <td>Kimbap Lab</td>\n",
       "      <td>Asian Restaurant</td>\n",
       "      <td>Korean Restaurant</td>\n",
       "      <td>Bossam/Jokbal Restaurant</td>\n",
       "    </tr>\n",
       "    <tr>\n",
       "      <th>2856</th>\n",
       "      <td>Busan Gukbap 부산국밥 (Busan Gukbap)</td>\n",
       "      <td>Asian Restaurant</td>\n",
       "      <td>Korean Restaurant</td>\n",
       "      <td>Bossam/Jokbal Restaurant</td>\n",
       "    </tr>\n",
       "    <tr>\n",
       "      <th>2860</th>\n",
       "      <td>Awaash</td>\n",
       "      <td>African Restaurant</td>\n",
       "      <td>Ethiopian Restaurant</td>\n",
       "      <td>NaN</td>\n",
       "    </tr>\n",
       "    <tr>\n",
       "      <th>2878</th>\n",
       "      <td>East Brooklyn Eats</td>\n",
       "      <td>African Restaurant</td>\n",
       "      <td>Ethiopian Restaurant</td>\n",
       "      <td>NaN</td>\n",
       "    </tr>\n",
       "    <tr>\n",
       "      <th>2885</th>\n",
       "      <td>Ghenet Brooklyn</td>\n",
       "      <td>African Restaurant</td>\n",
       "      <td>Ethiopian Restaurant</td>\n",
       "      <td>NaN</td>\n",
       "    </tr>\n",
       "    <tr>\n",
       "      <th>2896</th>\n",
       "      <td>Rangoon NoodleLab</td>\n",
       "      <td>Asian Restaurant</td>\n",
       "      <td>Burmese Restaurant</td>\n",
       "      <td>NaN</td>\n",
       "    </tr>\n",
       "    <tr>\n",
       "      <th>2901</th>\n",
       "      <td>Taste From Everest</td>\n",
       "      <td>Asian Restaurant</td>\n",
       "      <td>Himalayan Restaurant</td>\n",
       "      <td>NaN</td>\n",
       "    </tr>\n",
       "  </tbody>\n",
       "</table>\n",
       "</div>"
      ],
      "text/plain": [
       "                               venue_name       category1_name  \\\n",
       "276                    Light Horse Tavern  American Restaurant   \n",
       "608                             Crown Shy           Restaurant   \n",
       "612                             Pera Soho           Restaurant   \n",
       "616                Andy's Teriyaki & Taco           Restaurant   \n",
       "1796                       yakitori tatsu           Food Stand   \n",
       "1883                         Simit Sarayı   Turkish Restaurant   \n",
       "2045                    Aleppo Restaurant     Kebab Restaurant   \n",
       "2058                      Doner Kebab NYC     Kebab Restaurant   \n",
       "2069  Sarita's Mac and Cheese Murray Hill   Mac & Cheese Joint   \n",
       "2777                         Pig and Khao     Asian Restaurant   \n",
       "2779                               Ihawan     Asian Restaurant   \n",
       "2789        Tito Rad's Grill & Restaurant     Asian Restaurant   \n",
       "2825                             Ms. OHHO     Asian Restaurant   \n",
       "2830                           Kimbap Lab     Asian Restaurant   \n",
       "2856     Busan Gukbap 부산국밥 (Busan Gukbap)     Asian Restaurant   \n",
       "2860                               Awaash   African Restaurant   \n",
       "2878                   East Brooklyn Eats   African Restaurant   \n",
       "2885                      Ghenet Brooklyn   African Restaurant   \n",
       "2896                    Rangoon NoodleLab     Asian Restaurant   \n",
       "2901                   Taste From Everest     Asian Restaurant   \n",
       "\n",
       "               category2_name            category3_name  \n",
       "276   New American Restaurant                         0  \n",
       "608                       NaN                         0  \n",
       "612                       NaN                         0  \n",
       "616                       NaN                         0  \n",
       "1796                      NaN                         0  \n",
       "1883              Borek Place                         0  \n",
       "2045                      NaN                         0  \n",
       "2058                      NaN                         0  \n",
       "2069                      NaN                         0  \n",
       "2777      Filipino Restaurant                       NaN  \n",
       "2779      Filipino Restaurant                       NaN  \n",
       "2789      Filipino Restaurant                       NaN  \n",
       "2825        Korean Restaurant  Bossam/Jokbal Restaurant  \n",
       "2830        Korean Restaurant  Bossam/Jokbal Restaurant  \n",
       "2856        Korean Restaurant  Bossam/Jokbal Restaurant  \n",
       "2860     Ethiopian Restaurant                       NaN  \n",
       "2878     Ethiopian Restaurant                       NaN  \n",
       "2885     Ethiopian Restaurant                       NaN  \n",
       "2896       Burmese Restaurant                       NaN  \n",
       "2901     Himalayan Restaurant                       NaN  "
      ]
     },
     "execution_count": 24,
     "metadata": {},
     "output_type": "execute_result"
    }
   ],
   "source": [
    "df_venues_cat[df_venues['venue_id'].isin(df_pred_scores.loc[:,1265687].sort_values(ascending=False).index[0:20])][['venue_name','category1_name','category2_name','category3_name']]"
   ]
  },
  {
   "cell_type": "markdown",
   "metadata": {},
   "source": [
    "### 4.1.2. Sample user's top n already scored food venues."
   ]
  },
  {
   "cell_type": "markdown",
   "metadata": {},
   "source": [
    " <pre> Make sure if already high scored food venues are predicted high as well </pre>"
   ]
  },
  {
   "cell_type": "code",
   "execution_count": 25,
   "metadata": {},
   "outputs": [
    {
     "data": {
      "text/html": [
       "<div>\n",
       "<style scoped>\n",
       "    .dataframe tbody tr th:only-of-type {\n",
       "        vertical-align: middle;\n",
       "    }\n",
       "\n",
       "    .dataframe tbody tr th {\n",
       "        vertical-align: top;\n",
       "    }\n",
       "\n",
       "    .dataframe thead th {\n",
       "        text-align: right;\n",
       "    }\n",
       "</style>\n",
       "<table border=\"1\" class=\"dataframe\">\n",
       "  <thead>\n",
       "    <tr style=\"text-align: right;\">\n",
       "      <th></th>\n",
       "      <th>user_id</th>\n",
       "      <th>venue_id</th>\n",
       "      <th>score</th>\n",
       "      <th>venue_name</th>\n",
       "      <th>category_id</th>\n",
       "      <th>category_name</th>\n",
       "    </tr>\n",
       "  </thead>\n",
       "  <tbody>\n",
       "    <tr>\n",
       "      <th>0</th>\n",
       "      <td>1265687</td>\n",
       "      <td>582a1b095f78034bcfb69186</td>\n",
       "      <td>5</td>\n",
       "      <td>Sami's Kebab House</td>\n",
       "      <td>503288ae91d4c4b30a586d67</td>\n",
       "      <td>Afghan Restaurant</td>\n",
       "    </tr>\n",
       "    <tr>\n",
       "      <th>1</th>\n",
       "      <td>1265687</td>\n",
       "      <td>56e064dc498e1ba17ec18b6f</td>\n",
       "      <td>5</td>\n",
       "      <td>Fu Yuan</td>\n",
       "      <td>56aa371be4b08b9a8d57350b</td>\n",
       "      <td>Food Stand</td>\n",
       "    </tr>\n",
       "    <tr>\n",
       "      <th>2</th>\n",
       "      <td>1265687</td>\n",
       "      <td>5d7d2f62774999000703bdcb</td>\n",
       "      <td>3</td>\n",
       "      <td>Yin Ji Chang Fen 銀記腸粉店</td>\n",
       "      <td>52af3a7c3cf9994f4e043bed</td>\n",
       "      <td>Cantonese Restaurant</td>\n",
       "    </tr>\n",
       "    <tr>\n",
       "      <th>3</th>\n",
       "      <td>1265687</td>\n",
       "      <td>5a13402d286fda3f038703e0</td>\n",
       "      <td>3</td>\n",
       "      <td>Le Privé</td>\n",
       "      <td>4bf58dd8d48988d10c941735</td>\n",
       "      <td>French Restaurant</td>\n",
       "    </tr>\n",
       "    <tr>\n",
       "      <th>4</th>\n",
       "      <td>1265687</td>\n",
       "      <td>58225a8f001d8755c9c4bcd1</td>\n",
       "      <td>3</td>\n",
       "      <td>Sweetcatch Poke Bar</td>\n",
       "      <td>5bae9231bedf3950379f89d4</td>\n",
       "      <td>Poke Place</td>\n",
       "    </tr>\n",
       "  </tbody>\n",
       "</table>\n",
       "</div>"
      ],
      "text/plain": [
       "   user_id                  venue_id  score              venue_name  \\\n",
       "0  1265687  582a1b095f78034bcfb69186      5      Sami's Kebab House   \n",
       "1  1265687  56e064dc498e1ba17ec18b6f      5                 Fu Yuan   \n",
       "2  1265687  5d7d2f62774999000703bdcb      3  Yin Ji Chang Fen 銀記腸粉店   \n",
       "3  1265687  5a13402d286fda3f038703e0      3                Le Privé   \n",
       "4  1265687  58225a8f001d8755c9c4bcd1      3     Sweetcatch Poke Bar   \n",
       "\n",
       "                category_id         category_name  \n",
       "0  503288ae91d4c4b30a586d67     Afghan Restaurant  \n",
       "1  56aa371be4b08b9a8d57350b            Food Stand  \n",
       "2  52af3a7c3cf9994f4e043bed  Cantonese Restaurant  \n",
       "3  4bf58dd8d48988d10c941735     French Restaurant  \n",
       "4  5bae9231bedf3950379f89d4            Poke Place  "
      ]
     },
     "execution_count": 25,
     "metadata": {},
     "output_type": "execute_result"
    }
   ],
   "source": [
    "df_tmp=pd.merge(df_scores[df_scores['user_id']==1265687].sort_values('score',ascending=False),df_venues,on=['venue_id']).head()\n",
    "df_tmp"
   ]
  },
  {
   "cell_type": "code",
   "execution_count": 26,
   "metadata": {},
   "outputs": [
    {
     "data": {
      "text/html": [
       "<div>\n",
       "<style scoped>\n",
       "    .dataframe tbody tr th:only-of-type {\n",
       "        vertical-align: middle;\n",
       "    }\n",
       "\n",
       "    .dataframe tbody tr th {\n",
       "        vertical-align: top;\n",
       "    }\n",
       "\n",
       "    .dataframe thead th {\n",
       "        text-align: right;\n",
       "    }\n",
       "</style>\n",
       "<table border=\"1\" class=\"dataframe\">\n",
       "  <thead>\n",
       "    <tr style=\"text-align: right;\">\n",
       "      <th></th>\n",
       "      <th>venue_id</th>\n",
       "      <th>venue_name</th>\n",
       "      <th>category_id</th>\n",
       "      <th>category_name</th>\n",
       "    </tr>\n",
       "  </thead>\n",
       "  <tbody>\n",
       "    <tr>\n",
       "      <th>2</th>\n",
       "      <td>582a1b095f78034bcfb69186</td>\n",
       "      <td>Sami's Kebab House</td>\n",
       "      <td>503288ae91d4c4b30a586d67</td>\n",
       "      <td>Afghan Restaurant</td>\n",
       "    </tr>\n",
       "    <tr>\n",
       "      <th>218</th>\n",
       "      <td>5a13402d286fda3f038703e0</td>\n",
       "      <td>Le Privé</td>\n",
       "      <td>4bf58dd8d48988d10c941735</td>\n",
       "      <td>French Restaurant</td>\n",
       "    </tr>\n",
       "    <tr>\n",
       "      <th>904</th>\n",
       "      <td>56e064dc498e1ba17ec18b6f</td>\n",
       "      <td>Fu Yuan</td>\n",
       "      <td>56aa371be4b08b9a8d57350b</td>\n",
       "      <td>Food Stand</td>\n",
       "    </tr>\n",
       "    <tr>\n",
       "      <th>2993</th>\n",
       "      <td>58225a8f001d8755c9c4bcd1</td>\n",
       "      <td>Sweetcatch Poke Bar</td>\n",
       "      <td>5bae9231bedf3950379f89d4</td>\n",
       "      <td>Poke Place</td>\n",
       "    </tr>\n",
       "    <tr>\n",
       "      <th>3558</th>\n",
       "      <td>5d7d2f62774999000703bdcb</td>\n",
       "      <td>Yin Ji Chang Fen 銀記腸粉店</td>\n",
       "      <td>52af3a7c3cf9994f4e043bed</td>\n",
       "      <td>Cantonese Restaurant</td>\n",
       "    </tr>\n",
       "  </tbody>\n",
       "</table>\n",
       "</div>"
      ],
      "text/plain": [
       "                      venue_id              venue_name  \\\n",
       "2     582a1b095f78034bcfb69186      Sami's Kebab House   \n",
       "218   5a13402d286fda3f038703e0                Le Privé   \n",
       "904   56e064dc498e1ba17ec18b6f                 Fu Yuan   \n",
       "2993  58225a8f001d8755c9c4bcd1     Sweetcatch Poke Bar   \n",
       "3558  5d7d2f62774999000703bdcb  Yin Ji Chang Fen 銀記腸粉店   \n",
       "\n",
       "                   category_id         category_name  \n",
       "2     503288ae91d4c4b30a586d67     Afghan Restaurant  \n",
       "218   4bf58dd8d48988d10c941735     French Restaurant  \n",
       "904   56aa371be4b08b9a8d57350b            Food Stand  \n",
       "2993  5bae9231bedf3950379f89d4            Poke Place  \n",
       "3558  52af3a7c3cf9994f4e043bed  Cantonese Restaurant  "
      ]
     },
     "execution_count": 26,
     "metadata": {},
     "output_type": "execute_result"
    }
   ],
   "source": [
    "df_tmp2=df_venues[df_venues['venue_id'].isin(df_pred_scores.loc[:,1265687].sort_values(ascending=False).index)]\n",
    "df_tmp2[df_tmp2['venue_name'].isin(df_tmp['venue_name'])]\n"
   ]
  },
  {
   "cell_type": "markdown",
   "metadata": {},
   "source": [
    "### <pre><span style=\"color:#2980B9\">5 scored  food venues were highly ranked on prediction as well, so seems to be predicted enough good  over all.</pre>"
   ]
  },
  {
   "cell_type": "markdown",
   "metadata": {},
   "source": [
    "___"
   ]
  },
  {
   "cell_type": "markdown",
   "metadata": {},
   "source": [
    "<a id='item5'></a>"
   ]
  },
  {
   "cell_type": "markdown",
   "metadata": {},
   "source": [
    "# 5. Discussion"
   ]
  },
  {
   "cell_type": "markdown",
   "metadata": {},
   "source": [
    "## 5.1. Sampling user and recommended restaurant\n",
    "<pre> Users will be randamly sampled.</pre>"
   ]
  },
  {
   "cell_type": "markdown",
   "metadata": {},
   "source": [
    "### 5.1.1. Pick up 10 users randamly "
   ]
  },
  {
   "cell_type": "code",
   "execution_count": 76,
   "metadata": {
    "scrolled": true
   },
   "outputs": [
    {
     "data": {
      "text/html": [
       "<div>\n",
       "<style scoped>\n",
       "    .dataframe tbody tr th:only-of-type {\n",
       "        vertical-align: middle;\n",
       "    }\n",
       "\n",
       "    .dataframe tbody tr th {\n",
       "        vertical-align: top;\n",
       "    }\n",
       "\n",
       "    .dataframe thead th {\n",
       "        text-align: right;\n",
       "    }\n",
       "</style>\n",
       "<table border=\"1\" class=\"dataframe\">\n",
       "  <thead>\n",
       "    <tr style=\"text-align: right;\">\n",
       "      <th></th>\n",
       "      <th>user_id</th>\n",
       "      <th>category_name</th>\n",
       "      <th>venue_name</th>\n",
       "    </tr>\n",
       "  </thead>\n",
       "  <tbody>\n",
       "    <tr>\n",
       "      <th>37</th>\n",
       "      <td>8155</td>\n",
       "      <td>Dessert Shop</td>\n",
       "      <td>The Sweet Shop NYC</td>\n",
       "    </tr>\n",
       "    <tr>\n",
       "      <th>36</th>\n",
       "      <td>8155</td>\n",
       "      <td>Dessert Shop</td>\n",
       "      <td>Tea Magic</td>\n",
       "    </tr>\n",
       "    <tr>\n",
       "      <th>38</th>\n",
       "      <td>8155</td>\n",
       "      <td>Dessert Shop</td>\n",
       "      <td>Made By Pauline</td>\n",
       "    </tr>\n",
       "    <tr>\n",
       "      <th>39</th>\n",
       "      <td>8155</td>\n",
       "      <td>Dessert Shop</td>\n",
       "      <td>HARBS</td>\n",
       "    </tr>\n",
       "    <tr>\n",
       "      <th>40</th>\n",
       "      <td>8155</td>\n",
       "      <td>Dessert Shop</td>\n",
       "      <td>Beard Papa’s</td>\n",
       "    </tr>\n",
       "    <tr>\n",
       "      <th>41</th>\n",
       "      <td>8155</td>\n",
       "      <td>Dessert Shop</td>\n",
       "      <td>Marc's CheeseCake</td>\n",
       "    </tr>\n",
       "    <tr>\n",
       "      <th>43</th>\n",
       "      <td>8155</td>\n",
       "      <td>Dessert Shop</td>\n",
       "      <td>Harbs</td>\n",
       "    </tr>\n",
       "    <tr>\n",
       "      <th>44</th>\n",
       "      <td>8155</td>\n",
       "      <td>Dessert Shop</td>\n",
       "      <td>Alfonso's Pastry Shoppe</td>\n",
       "    </tr>\n",
       "    <tr>\n",
       "      <th>45</th>\n",
       "      <td>8155</td>\n",
       "      <td>Dessert Shop</td>\n",
       "      <td>Ray's Candy Store</td>\n",
       "    </tr>\n",
       "    <tr>\n",
       "      <th>42</th>\n",
       "      <td>8155</td>\n",
       "      <td>Dessert Shop</td>\n",
       "      <td>Antepli Baklava</td>\n",
       "    </tr>\n",
       "    <tr>\n",
       "      <th>57</th>\n",
       "      <td>16665</td>\n",
       "      <td>Bakery</td>\n",
       "      <td>Win Son Bakery</td>\n",
       "    </tr>\n",
       "    <tr>\n",
       "      <th>63</th>\n",
       "      <td>16665</td>\n",
       "      <td>Mexican Restaurant</td>\n",
       "      <td>Chavela's</td>\n",
       "    </tr>\n",
       "    <tr>\n",
       "      <th>64</th>\n",
       "      <td>16665</td>\n",
       "      <td>Bakery</td>\n",
       "      <td>Two Little Red Hens</td>\n",
       "    </tr>\n",
       "    <tr>\n",
       "      <th>65</th>\n",
       "      <td>16665</td>\n",
       "      <td>Seafood Restaurant</td>\n",
       "      <td>Cull &amp; Pistol</td>\n",
       "    </tr>\n",
       "    <tr>\n",
       "      <th>66</th>\n",
       "      <td>16665</td>\n",
       "      <td>Pizza Place</td>\n",
       "      <td>Scarr's Pizza</td>\n",
       "    </tr>\n",
       "    <tr>\n",
       "      <th>67</th>\n",
       "      <td>16665</td>\n",
       "      <td>Bagel Shop</td>\n",
       "      <td>Shelsky's of Brooklyn</td>\n",
       "    </tr>\n",
       "    <tr>\n",
       "      <th>68</th>\n",
       "      <td>16665</td>\n",
       "      <td>BBQ Joint</td>\n",
       "      <td>Hometown Bar-B-Que</td>\n",
       "    </tr>\n",
       "    <tr>\n",
       "      <th>69</th>\n",
       "      <td>16665</td>\n",
       "      <td>Seafood Restaurant</td>\n",
       "      <td>Flex Mussels</td>\n",
       "    </tr>\n",
       "    <tr>\n",
       "      <th>62</th>\n",
       "      <td>16665</td>\n",
       "      <td>BBQ Joint</td>\n",
       "      <td>Dinosaur Bar-B-Que</td>\n",
       "    </tr>\n",
       "    <tr>\n",
       "      <th>70</th>\n",
       "      <td>16665</td>\n",
       "      <td>Deli / Bodega</td>\n",
       "      <td>Sunny &amp; Annie Gourmet Deli</td>\n",
       "    </tr>\n",
       "  </tbody>\n",
       "</table>\n",
       "</div>"
      ],
      "text/plain": [
       "   user_id       category_name                  venue_name\n",
       "37    8155        Dessert Shop          The Sweet Shop NYC\n",
       "36    8155        Dessert Shop                   Tea Magic\n",
       "38    8155        Dessert Shop             Made By Pauline\n",
       "39    8155        Dessert Shop                       HARBS\n",
       "40    8155        Dessert Shop                Beard Papa’s\n",
       "41    8155        Dessert Shop           Marc's CheeseCake\n",
       "43    8155        Dessert Shop                       Harbs\n",
       "44    8155        Dessert Shop     Alfonso's Pastry Shoppe\n",
       "45    8155        Dessert Shop           Ray's Candy Store\n",
       "42    8155        Dessert Shop             Antepli Baklava\n",
       "57   16665              Bakery              Win Son Bakery\n",
       "63   16665  Mexican Restaurant                   Chavela's\n",
       "64   16665              Bakery         Two Little Red Hens\n",
       "65   16665  Seafood Restaurant               Cull & Pistol\n",
       "66   16665         Pizza Place               Scarr's Pizza\n",
       "67   16665          Bagel Shop       Shelsky's of Brooklyn\n",
       "68   16665           BBQ Joint          Hometown Bar-B-Que\n",
       "69   16665  Seafood Restaurant                Flex Mussels\n",
       "62   16665           BBQ Joint          Dinosaur Bar-B-Que\n",
       "70   16665       Deli / Bodega  Sunny & Annie Gourmet Deli"
      ]
     },
     "execution_count": 76,
     "metadata": {},
     "output_type": "execute_result"
    }
   ],
   "source": [
    "import random\n",
    "\n",
    "df_scores_rank=pd.DataFrame(index=[],columns=['user_id','venue_name','score'])\n",
    "for col in df_pred_scores.columns[random.sample(range(df_pred_scores.shape[1]),k=10)]:\n",
    "    for idx in df_pred_scores.loc[:,col].sort_values(ascending=False)[0:10].index:\n",
    "        r=pd.Series([col,df_venues[df_venues['venue_id']==idx]['venue_name'].values[0],df_pred_scores.loc[idx,col]],index=df_scores_rank.columns)\n",
    "        df_scores_rank=df_scores_rank.append(r,ignore_index=True)\n",
    "df_scores_rank=pd.merge(df_scores_rank,df_venues,on='venue_name')[['user_id','category_name','venue_name']].sort_values('user_id')\n",
    "df_scores_rank.head(20)"
   ]
  },
  {
   "cell_type": "markdown",
   "metadata": {},
   "source": [
    "### 5.1.2. Look up how category of their recommended restaulants are varied."
   ]
  },
  {
   "cell_type": "code",
   "execution_count": 77,
   "metadata": {},
   "outputs": [
    {
     "data": {
      "text/plain": [
       "<Figure size 432x288 with 0 Axes>"
      ]
     },
     "metadata": {},
     "output_type": "display_data"
    },
    {
     "data": {
      "image/png": "[encoded data removed]",
      "text/plain": [
       "<Figure size 720x360 with 1 Axes>"
      ]
     },
     "metadata": {
      "needs_background": "light"
     },
     "output_type": "display_data"
    },
    {
     "data": {
      "text/plain": [
       "<Figure size 432x288 with 0 Axes>"
      ]
     },
     "metadata": {},
     "output_type": "display_data"
    },
    {
     "data": {
      "image/png": "[encoded data removed]",
      "text/plain": [
       "<Figure size 720x360 with 1 Axes>"
      ]
     },
     "metadata": {
      "needs_background": "light"
     },
     "output_type": "display_data"
    },
    {
     "data": {
      "text/plain": [
       "<Figure size 432x288 with 0 Axes>"
      ]
     },
     "metadata": {},
     "output_type": "display_data"
    },
    {
     "data": {
      "image/png": "[encoded data removed]",
      "text/plain": [
       "<Figure size 720x360 with 1 Axes>"
      ]
     },
     "metadata": {
      "needs_background": "light"
     },
     "output_type": "display_data"
    },
    {
     "data": {
      "text/plain": [
       "<Figure size 432x288 with 0 Axes>"
      ]
     },
     "metadata": {},
     "output_type": "display_data"
    },
    {
     "data": {
      "image/png": "[encoded data removed]",
      "text/plain": [
       "<Figure size 720x360 with 1 Axes>"
      ]
     },
     "metadata": {
      "needs_background": "light"
     },
     "output_type": "display_data"
    },
    {
     "data": {
      "text/plain": [
       "<Figure size 432x288 with 0 Axes>"
      ]
     },
     "metadata": {},
     "output_type": "display_data"
    },
    {
     "data": {
      "image/png": "[encoded data removed]",
      "text/plain": [
       "<Figure size 720x360 with 1 Axes>"
      ]
     },
     "metadata": {
      "needs_background": "light"
     },
     "output_type": "display_data"
    },
    {
     "data": {
      "text/plain": [
       "<Figure size 432x288 with 0 Axes>"
      ]
     },
     "metadata": {},
     "output_type": "display_data"
    },
    {
     "data": {
      "image/png": "[encoded data removed]",
      "text/plain": [
       "<Figure size 720x360 with 1 Axes>"
      ]
     },
     "metadata": {
      "needs_background": "light"
     },
     "output_type": "display_data"
    },
    {
     "data": {
      "text/plain": [
       "<Figure size 432x288 with 0 Axes>"
      ]
     },
     "metadata": {},
     "output_type": "display_data"
    },
    {
     "data": {
      "image/png": "[encoded data removed]",
      "text/plain": [
       "<Figure size 720x360 with 1 Axes>"
      ]
     },
     "metadata": {
      "needs_background": "light"
     },
     "output_type": "display_data"
    },
    {
     "data": {
      "text/plain": [
       "<Figure size 432x288 with 0 Axes>"
      ]
     },
     "metadata": {},
     "output_type": "display_data"
    },
    {
     "data": {
      "image/png": "[encoded data removed]",
      "text/plain": [
       "<Figure size 720x360 with 1 Axes>"
      ]
     },
     "metadata": {
      "needs_background": "light"
     },
     "output_type": "display_data"
    },
    {
     "data": {
      "text/plain": [
       "<Figure size 432x288 with 0 Axes>"
      ]
     },
     "metadata": {},
     "output_type": "display_data"
    },
    {
     "data": {
      "image/png": "[encoded data removed]",
      "text/plain": [
       "<Figure size 720x360 with 1 Axes>"
      ]
     },
     "metadata": {
      "needs_background": "light"
     },
     "output_type": "display_data"
    },
    {
     "data": {
      "text/plain": [
       "<Figure size 432x288 with 0 Axes>"
      ]
     },
     "metadata": {},
     "output_type": "display_data"
    },
    {
     "data": {
      "image/png": "[encoded data removed]",
      "text/plain": [
       "<Figure size 720x360 with 1 Axes>"
      ]
     },
     "metadata": {
      "needs_background": "light"
     },
     "output_type": "display_data"
    }
   ],
   "source": [
    "for key,grp in df_scores_rank.groupby('user_id'):\n",
    "    fig = plt.figure()\n",
    "    plt.figure(figsize=(10,5))\n",
    "    plt.xticks(rotation=90)\n",
    "    plt.title(key)\n",
    "#    plt.yticks(np.arange(0, 5, 0.5))\n",
    "    plt.bar(grp.groupby('category_name').count().index,grp.groupby('category_name').count().venue_name,)"
   ]
  },
  {
   "cell_type": "markdown",
   "metadata": {},
   "source": [
    "### <pre><span style=\"color:#2980B9\">It is apparent that their recommended food venuesbelong to same category, but in some cases they cover a variety of categories.</pre>"
   ]
  },
  {
   "cell_type": "markdown",
   "metadata": {},
   "source": [
    "___"
   ]
  },
  {
   "cell_type": "markdown",
   "metadata": {},
   "source": [
    "## 5.2. Identify location on map "
   ]
  },
  {
   "cell_type": "markdown",
   "metadata": {},
   "source": [
    " <pre> Here, we focus on user <font color=\"#c71585\">53052590</font>, whoes cover a variety of categories recommended, and identify them on map</pre>"
   ]
  },
  {
   "cell_type": "markdown",
   "metadata": {},
   "source": [
    "### 5.2.1. Import modules"
   ]
  },
  {
   "cell_type": "code",
   "execution_count": 23,
   "metadata": {},
   "outputs": [
    {
     "name": "stdout",
     "output_type": "stream",
     "text": [
      "Collecting package metadata (current_repodata.json): done\n",
      "Solving environment: done\n",
      "\n",
      "## Package Plan ##\n",
      "\n",
      "  environment location: /home/jupyterlab/conda/envs/python\n",
      "\n",
      "  added / updated specs:\n",
      "    - geopy\n",
      "\n",
      "\n",
      "The following packages will be downloaded:\n",
      "\n",
      "    package                    |            build\n",
      "    ---------------------------|-----------------\n",
      "    geographiclib-1.50         |             py_0          34 KB  conda-forge\n",
      "    geopy-2.0.0                |     pyh9f0ad1d_0          63 KB  conda-forge\n",
      "    openssl-1.1.1g             |       h516909a_1         2.1 MB  conda-forge\n",
      "    ------------------------------------------------------------\n",
      "                                           Total:         2.2 MB\n",
      "\n",
      "The following NEW packages will be INSTALLED:\n",
      "\n",
      "  geographiclib      conda-forge/noarch::geographiclib-1.50-py_0\n",
      "  geopy              conda-forge/noarch::geopy-2.0.0-pyh9f0ad1d_0\n",
      "\n",
      "The following packages will be UPDATED:\n",
      "\n",
      "  openssl                                 1.1.1g-h516909a_0 --> 1.1.1g-h516909a_1\n",
      "\n",
      "\n",
      "\n",
      "Downloading and Extracting Packages\n",
      "openssl-1.1.1g       | 2.1 MB    | ##################################### | 100% \n",
      "geopy-2.0.0          | 63 KB     | ##################################### | 100% \n",
      "geographiclib-1.50   | 34 KB     | ##################################### | 100% \n",
      "Preparing transaction: done\n",
      "Verifying transaction: done\n",
      "Executing transaction: done\n"
     ]
    }
   ],
   "source": [
    "!conda install -c conda-forge geopy --yes # uncomment this line if you haven't completed the Foursquare API lab\n",
    "from geopy.geocoders import Nominatim # convert an address into latitude and longitude values\n",
    "import folium"
   ]
  },
  {
   "cell_type": "code",
   "execution_count": 24,
   "metadata": {},
   "outputs": [
    {
     "name": "stdout",
     "output_type": "stream",
     "text": [
      "Collecting package metadata (current_repodata.json): done\n",
      "Solving environment: done\n",
      "\n",
      "## Package Plan ##\n",
      "\n",
      "  environment location: /home/jupyterlab/conda/envs/python\n",
      "\n",
      "  added / updated specs:\n",
      "    - folium\n",
      "\n",
      "\n",
      "The following packages will be downloaded:\n",
      "\n",
      "    package                    |            build\n",
      "    ---------------------------|-----------------\n",
      "    branca-0.4.1               |             py_0          26 KB  conda-forge\n",
      "    brotlipy-0.7.0             |py36h8c4c3a4_1000         346 KB  conda-forge\n",
      "    chardet-3.0.4              |py36h9f0ad1d_1006         188 KB  conda-forge\n",
      "    cryptography-3.0           |   py36h45558ae_0         640 KB  conda-forge\n",
      "    folium-0.11.0              |             py_0          61 KB  conda-forge\n",
      "    pysocks-1.7.1              |   py36h9f0ad1d_1          27 KB  conda-forge\n",
      "    ------------------------------------------------------------\n",
      "                                           Total:         1.3 MB\n",
      "\n",
      "The following NEW packages will be INSTALLED:\n",
      "\n",
      "  branca             conda-forge/noarch::branca-0.4.1-py_0\n",
      "  brotlipy           conda-forge/linux-64::brotlipy-0.7.0-py36h8c4c3a4_1000\n",
      "  chardet            conda-forge/linux-64::chardet-3.0.4-py36h9f0ad1d_1006\n",
      "  cryptography       conda-forge/linux-64::cryptography-3.0-py36h45558ae_0\n",
      "  folium             conda-forge/noarch::folium-0.11.0-py_0\n",
      "  idna               conda-forge/noarch::idna-2.10-pyh9f0ad1d_0\n",
      "  jinja2             conda-forge/noarch::jinja2-2.11.2-pyh9f0ad1d_0\n",
      "  markupsafe         conda-forge/linux-64::markupsafe-1.1.1-py36h8c4c3a4_1\n",
      "  pyopenssl          conda-forge/noarch::pyopenssl-19.1.0-py_1\n",
      "  pysocks            conda-forge/linux-64::pysocks-1.7.1-py36h9f0ad1d_1\n",
      "  requests           conda-forge/noarch::requests-2.24.0-pyh9f0ad1d_0\n",
      "  urllib3            conda-forge/noarch::urllib3-1.25.10-py_0\n",
      "\n",
      "\n",
      "\n",
      "Downloading and Extracting Packages\n",
      "chardet-3.0.4        | 188 KB    | ##################################### | 100% \n",
      "branca-0.4.1         | 26 KB     | ##################################### | 100% \n",
      "brotlipy-0.7.0       | 346 KB    | ##################################### | 100% \n",
      "pysocks-1.7.1        | 27 KB     | ##################################### | 100% \n",
      "folium-0.11.0        | 61 KB     | ##################################### | 100% \n",
      "cryptography-3.0     | 640 KB    | ##################################### | 100% \n",
      "Preparing transaction: done\n",
      "Verifying transaction: done\n",
      "Executing transaction: done\n"
     ]
    }
   ],
   "source": [
    "!conda install folium -c conda-forge --yes"
   ]
  },
  {
   "cell_type": "markdown",
   "metadata": {},
   "source": [
    "### 5.2.2. Get latitudes and longitudes"
   ]
  },
  {
   "cell_type": "code",
   "execution_count": 25,
   "metadata": {
    "collapsed": false,
    "jupyter": {
     "outputs_hidden": false
    },
    "scrolled": true
   },
   "outputs": [
    {
     "name": "stdout",
     "output_type": "stream",
     "text": [
      "The geograpical coordinate of New York City are 40.7127281, -74.0060152.\n"
     ]
    }
   ],
   "source": [
    "import folium\n",
    "address = 'New York, NY'\n",
    "geolocator = Nominatim(user_agent=\"ny_explorer\")\n",
    "location = geolocator.geocode(address)\n",
    "latitude = location.latitude\n",
    "longitude = location.longitude\n",
    "print('The geograpical coordinate of New York City are {}, {}.'.format(latitude, longitude))"
   ]
  },
  {
   "cell_type": "code",
   "execution_count": 26,
   "metadata": {},
   "outputs": [
    {
     "name": "stdout",
     "output_type": "stream",
     "text": [
      "liked5:['5d181bac17d3b9002329f126' '58cf24d36ad5a131a79f0501'\n",
      " '5c8bc9ba625a66002c543e3d' '4e3eb2d2a809ba757c1a5b57'\n",
      " '4e3d9c702271d21e86f8ca4e']\n",
      "pred5:['4b85de98f964a5201f7731e3' '548884d0498e1e200b4b2ee5'\n",
      " '59f6759d9e3b655d339b3405' '56465934498eb7f010d1ad98'\n",
      " '4d9788afa2c654817bf3db53']\n"
     ]
    }
   ],
   "source": [
    "liked5=df_scores_mtx.loc[:,53052590].sort_values(ascending=False).index.values[0:5]\n",
    "pred5=df_pred_scores.loc[:,53052590].sort_values(ascending=False).index.values[0:5]\n",
    "print('liked5:{}'.format(liked5))\n",
    "print('pred5:{}'.format(pred5))"
   ]
  },
  {
   "cell_type": "code",
   "execution_count": 27,
   "metadata": {},
   "outputs": [],
   "source": [
    "df_5liked=pd.DataFrame(index=[],columns=['venue_id','venue_name','lat','lng'])\n",
    "for vid in liked5:\n",
    "    url='https://api.foursquare.com/v2/venues/{}?client_id={}&client_secret={}&v={}'.format(vid,CLIENT_ID, CLIENT_SECRET, VERSION)\n",
    "    ret=requests.get(url).json()['response']['venue']\n",
    "    record=pd.Series([ret['id'],ret['name'],ret['location']['lat'],ret['location']['lng']],index=df_5liked.columns)\n",
    "    df_5liked=df_5liked.append(record,ignore_index=True)\n"
   ]
  },
  {
   "cell_type": "code",
   "execution_count": 28,
   "metadata": {},
   "outputs": [],
   "source": [
    "df_5pred=pd.DataFrame(index=[],columns=['venue_id','venue_name','lat','lng'])\n",
    "for vid in pred5:\n",
    "    url='https://api.foursquare.com/v2/venues/{}?client_id={}&client_secret={}&v={}'.format(vid,CLIENT_ID, CLIENT_SECRET, VERSION)\n",
    "    ret=requests.get(url).json()['response']['venue']\n",
    "    record=pd.Series([ret['id'],ret['name'],ret['location']['lat'],ret['location']['lng']],index=df_5pred.columns)\n",
    "    df_5pred=df_5pred.append(record,ignore_index=True)\n"
   ]
  },
  {
   "cell_type": "code",
   "execution_count": 29,
   "metadata": {},
   "outputs": [
    {
     "data": {
      "text/html": [
       "<div>\n",
       "<style scoped>\n",
       "    .dataframe tbody tr th:only-of-type {\n",
       "        vertical-align: middle;\n",
       "    }\n",
       "\n",
       "    .dataframe tbody tr th {\n",
       "        vertical-align: top;\n",
       "    }\n",
       "\n",
       "    .dataframe thead th {\n",
       "        text-align: right;\n",
       "    }\n",
       "</style>\n",
       "<table border=\"1\" class=\"dataframe\">\n",
       "  <thead>\n",
       "    <tr style=\"text-align: right;\">\n",
       "      <th></th>\n",
       "      <th>venue_id</th>\n",
       "      <th>venue_name_x</th>\n",
       "      <th>lat</th>\n",
       "      <th>lng</th>\n",
       "      <th>venue_name_y</th>\n",
       "      <th>category_id</th>\n",
       "      <th>category_name</th>\n",
       "    </tr>\n",
       "  </thead>\n",
       "  <tbody>\n",
       "    <tr>\n",
       "      <th>0</th>\n",
       "      <td>5d181bac17d3b9002329f126</td>\n",
       "      <td>L’Accolade</td>\n",
       "      <td>40.732486</td>\n",
       "      <td>-74.003810</td>\n",
       "      <td>L’Accolade</td>\n",
       "      <td>52e81612bcbc57f1066b79f1</td>\n",
       "      <td>Bistro</td>\n",
       "    </tr>\n",
       "    <tr>\n",
       "      <th>1</th>\n",
       "      <td>58cf24d36ad5a131a79f0501</td>\n",
       "      <td>Together</td>\n",
       "      <td>40.612122</td>\n",
       "      <td>-73.978533</td>\n",
       "      <td>Together</td>\n",
       "      <td>56aa371be4b08b9a8d573568</td>\n",
       "      <td>Burmese Restaurant</td>\n",
       "    </tr>\n",
       "    <tr>\n",
       "      <th>2</th>\n",
       "      <td>5c8bc9ba625a66002c543e3d</td>\n",
       "      <td>North Miznon</td>\n",
       "      <td>40.778329</td>\n",
       "      <td>-73.980973</td>\n",
       "      <td>North Miznon</td>\n",
       "      <td>56aa371be4b08b9a8d573529</td>\n",
       "      <td>Israeli Restaurant</td>\n",
       "    </tr>\n",
       "    <tr>\n",
       "      <th>3</th>\n",
       "      <td>4e3eb2d2a809ba757c1a5b57</td>\n",
       "      <td>Grant Café</td>\n",
       "      <td>40.672791</td>\n",
       "      <td>-73.870721</td>\n",
       "      <td>Grant Café</td>\n",
       "      <td>4bf58dd8d48988d143941735</td>\n",
       "      <td>Breakfast Spot</td>\n",
       "    </tr>\n",
       "    <tr>\n",
       "      <th>4</th>\n",
       "      <td>4e3d9c702271d21e86f8ca4e</td>\n",
       "      <td>Joloff Restaurant 2</td>\n",
       "      <td>40.684147</td>\n",
       "      <td>-73.954116</td>\n",
       "      <td>Joloff Restaurant 2</td>\n",
       "      <td>4bf58dd8d48988d1c8941735</td>\n",
       "      <td>African Restaurant</td>\n",
       "    </tr>\n",
       "  </tbody>\n",
       "</table>\n",
       "</div>"
      ],
      "text/plain": [
       "                   venue_id         venue_name_x        lat        lng  \\\n",
       "0  5d181bac17d3b9002329f126           L’Accolade  40.732486 -74.003810   \n",
       "1  58cf24d36ad5a131a79f0501             Together  40.612122 -73.978533   \n",
       "2  5c8bc9ba625a66002c543e3d         North Miznon  40.778329 -73.980973   \n",
       "3  4e3eb2d2a809ba757c1a5b57           Grant Café  40.672791 -73.870721   \n",
       "4  4e3d9c702271d21e86f8ca4e  Joloff Restaurant 2  40.684147 -73.954116   \n",
       "\n",
       "          venue_name_y               category_id       category_name  \n",
       "0           L’Accolade  52e81612bcbc57f1066b79f1              Bistro  \n",
       "1             Together  56aa371be4b08b9a8d573568  Burmese Restaurant  \n",
       "2         North Miznon  56aa371be4b08b9a8d573529  Israeli Restaurant  \n",
       "3           Grant Café  4bf58dd8d48988d143941735      Breakfast Spot  \n",
       "4  Joloff Restaurant 2  4bf58dd8d48988d1c8941735  African Restaurant  "
      ]
     },
     "execution_count": 29,
     "metadata": {},
     "output_type": "execute_result"
    }
   ],
   "source": [
    "pd.merge(df_5liked,df_venues,on='venue_id')"
   ]
  },
  {
   "cell_type": "code",
   "execution_count": 30,
   "metadata": {},
   "outputs": [],
   "source": [
    "df_5liked2=pd.merge(df_5liked,df_venues,on='venue_id').rename(columns={'category':'cat'})\n",
    "df_5pred2=pd.merge(df_5pred,df_venues,on='venue_id').rename(columns={'category':'cat'})"
   ]
  },
  {
   "cell_type": "markdown",
   "metadata": {},
   "source": [
    "### 5.2.3 Create a map of New York with his liked and predicted top5 for each"
   ]
  },
  {
   "cell_type": "markdown",
   "metadata": {},
   "source": [
    " <pre>  <font color=\"#3186cc\">Blue popups</font> are venues already scored by him, and <font color='#ff0080'>Red popups</font> are ones predicted</pre>"
   ]
  },
  {
   "cell_type": "code",
   "execution_count": 36,
   "metadata": {
    "scrolled": true
   },
   "outputs": [
    {
     "data": {
      "text/html": [
       "<div style=\"width:100%;\"><div style=\"position:relative;width:100%;height:0;padding-bottom:60%;\"><span style=\"color:#565656\">Make this Notebook Trusted to load map: File -> Trust Notebook</span><iframe src=\"about:blank\" style=\"position:absolute;width:100%;height:100%;left:0;top:0;border:none !important;\" data-html=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 onload=\"this.contentDocument.open();this.contentDocument.write(atob(this.getAttribute('data-html')));this.contentDocument.close();\" allowfullscreen webkitallowfullscreen mozallowfullscreen></iframe></div></div>"
      ],
      "text/plain": [
       "<folium.folium.Map at 0x7ff8f911ff98>"
      ]
     },
     "execution_count": 36,
     "metadata": {},
     "output_type": "execute_result"
    }
   ],
   "source": [
    "# create map of New York using latitude and longitude values\n",
    "map_newyork = folium.Map(width=1000,height=1000,location=[latitude, longitude], zoom_start=10)\n",
    "\n",
    "# add markers to map\n",
    "for name,lat, lng in zip(df_5liked['venue_name'],df_5liked['lat'], df_5liked['lng']):\n",
    "    label = '{}'.format(name)\n",
    "    label = folium.Popup(label, parse_html=True)\n",
    "    folium.CircleMarker(\n",
    "        [lat, lng],\n",
    "        radius=5,\n",
    "        popup=label,\n",
    "        color='blue',\n",
    "        fill=True,\n",
    "        fill_color='#3186cc',\n",
    "        fill_opacity=0.7,\n",
    "        parse_html=False).add_to(map_newyork)  \n",
    "for name,lat, lng in zip(df_5pred['venue_name'],df_5pred['lat'], df_5pred['lng']):\n",
    "    label = '{}'.format(name)\n",
    "    label = folium.Popup(label, parse_html=True)\n",
    "    folium.CircleMarker(\n",
    "        [lat, lng],\n",
    "        radius=5,\n",
    "        popup=label,\n",
    "        color='Red',\n",
    "        fill=True,\n",
    "        fill_color='#ff0080',\n",
    "        fill_opacity=0.7,\n",
    "        parse_html=False).add_to(map_newyork)  \n",
    "    \n",
    "map_newyork"
   ]
  },
  {
   "cell_type": "markdown",
   "metadata": {},
   "source": [
    "# 6. Conclusion"
   ]
  },
  {
   "cell_type": "markdown",
   "metadata": {},
   "source": [
    "#### <pre> We could get recommendation somehow.  We hope we could propose users to visit their recommendation and they got back to us! </pre>\n",
    "#### <pre>For more precise prediction, we need more data as followings</pre>\n",
    "1. Much more cross evalutions. (Scoring was done base on \"tips\", \"listed\", 'liked' flag and category, however, there were not enough cross evalutions for collaborative filtering to reach success.) \n",
    "2. Venues they visited.    (As for now, API does not suppot it)\n",
    "</pre>"
   ]
  },
  {
   "cell_type": "code",
   "execution_count": null,
   "metadata": {},
   "outputs": [],
   "source": []
  }
 ],
 "metadata": {
  "kernelspec": {
   "display_name": "Python",
   "language": "python",
   "name": "conda-env-python-py"
  },
  "language_info": {
   "codemirror_mode": {
    "name": "ipython",
    "version": 3
   },
   "file_extension": ".py",
   "mimetype": "text/x-python",
   "name": "python",
   "nbconvert_exporter": "python",
   "pygments_lexer": "ipython3",
   "version": "3.6.11"
  },
  "widgets": {
   "state": {},
   "version": "1.1.2"
  }
 },
 "nbformat": 4,
 "nbformat_minor": 4
}
